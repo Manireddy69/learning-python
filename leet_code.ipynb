{
  "nbformat": 4,
  "nbformat_minor": 0,
  "metadata": {
    "colab": {
      "provenance": [],
      "authorship_tag": "ABX9TyNuMurc7oS5VQLrGvdfESxo",
      "include_colab_link": true
    },
    "kernelspec": {
      "name": "python3",
      "display_name": "Python 3"
    },
    "language_info": {
      "name": "python"
    }
  },
  "cells": [
    {
      "cell_type": "markdown",
      "metadata": {
        "id": "view-in-github",
        "colab_type": "text"
      },
      "source": [
        "<a href=\"https://colab.research.google.com/github/Manireddy69/learning-python/blob/main/leet_code.ipynb\" target=\"_parent\"><img src=\"https://colab.research.google.com/assets/colab-badge.svg\" alt=\"Open In Colab\"/></a>"
      ]
    },
    {
      "cell_type": "code",
      "execution_count": null,
      "metadata": {
        "colab": {
          "base_uri": "https://localhost:8080/"
        },
        "id": "Qe9VVfVYgNH7",
        "outputId": "4ead8398-19d1-41a2-91ee-df082f528113"
      },
      "outputs": [
        {
          "output_type": "execute_result",
          "data": {
            "text/plain": [
              "[2, 4, 3, 1]"
            ]
          },
          "metadata": {},
          "execution_count": 4
        }
      ],
      "source": [
        "nums = [3,1,2,4]\n",
        "e = []\n",
        "o = []\n",
        "def f(nums):\n",
        "  for num in nums:\n",
        "    if num % 2 == 0:\n",
        "      e.append(num)\n",
        "    else:o.append(num)\n",
        "  return e + o\n",
        "\n",
        "f(nums)\n"
      ]
    },
    {
      "cell_type": "code",
      "source": [
        "aliceSizes = [2]\n",
        "bobSizes = [1,3]\n",
        "def l(aliceSizes, bobSizes):\n",
        "  if aliceSizes in bobSizes:\n",
        "    return [aliceSizes[0], bobSizes[0]]\n",
        "  else:\n",
        "    return [max(aliceSizes) , max(bobSizes)]\n",
        "l(aliceSizes,bobSizes)"
      ],
      "metadata": {
        "colab": {
          "base_uri": "https://localhost:8080/"
        },
        "id": "hyl7_C9uh9Ch",
        "outputId": "2cc44bf3-97a6-41e1-bd8c-aa965fab797d"
      },
      "execution_count": null,
      "outputs": [
        {
          "output_type": "execute_result",
          "data": {
            "text/plain": [
              "[2, 3]"
            ]
          },
          "metadata": {},
          "execution_count": 12
        }
      ]
    },
    {
      "cell_type": "code",
      "source": [
        "# from __future__ import print_function\n",
        "nums = [-1,1,-6,4,5,-6,1,4,1]\n",
        "\n",
        "def f(nums):\n",
        "\n",
        "  freq_map = {}\n",
        "  for num in nums:\n",
        "    freq_map[num] = freq_map.get(num, 0) + 1\n",
        "  sorted_nums = sorted(nums, key=lambda x: (freq_map[x], -x))\n",
        "  return sorted_nums\n",
        "  # print(freq_map)\n",
        "f(nums)"
      ],
      "metadata": {
        "colab": {
          "base_uri": "https://localhost:8080/"
        },
        "id": "kRnigynabMVG",
        "outputId": "7d66f514-bbca-4e01-b3de-1958d8f68684"
      },
      "execution_count": null,
      "outputs": [
        {
          "output_type": "execute_result",
          "data": {
            "text/plain": [
              "[5, -1, 4, 4, -6, -6, 1, 1, 1]"
            ]
          },
          "metadata": {},
          "execution_count": 34
        }
      ]
    },
    {
      "cell_type": "code",
      "source": [
        "nums = [-1,1,-6,4,5,-6,1,4,1]\n",
        "f = {}\n",
        "for num in nums:\n",
        "  f[num] = f.get(num,0) +1\n",
        "print(sorted(nums,key=lambda x: (f[x], -x))) #key is realted to sorted method & -x is for descending order\n"
      ],
      "metadata": {
        "colab": {
          "base_uri": "https://localhost:8080/"
        },
        "id": "xJgQJf_Ld4Fj",
        "outputId": "0ccc581c-a333-4b24-cf78-245abf8179a6"
      },
      "execution_count": null,
      "outputs": [
        {
          "output_type": "stream",
          "name": "stdout",
          "text": [
            "[5, -1, 4, 4, -6, -6, 1, 1, 1]\n"
          ]
        }
      ]
    },
    {
      "cell_type": "code",
      "source": [],
      "metadata": {
        "id": "tIdURY6YnJJE",
        "colab": {
          "base_uri": "https://localhost:8080/"
        },
        "outputId": "fc9fce88-fb22-4535-b4f9-62464e747a34"
      },
      "execution_count": 1,
      "outputs": [
        {
          "output_type": "stream",
          "name": "stdout",
          "text": [
            "10\n"
          ]
        }
      ]
    }
  ]
}