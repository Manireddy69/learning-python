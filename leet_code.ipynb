{
  "nbformat": 4,
  "nbformat_minor": 0,
  "metadata": {
    "colab": {
      "provenance": [],
      "authorship_tag": "ABX9TyPQ2vYyGXG2g9RbAkedmyux",
      "include_colab_link": true
    },
    "kernelspec": {
      "name": "python3",
      "display_name": "Python 3"
    },
    "language_info": {
      "name": "python"
    }
  },
  "cells": [
    {
      "cell_type": "markdown",
      "metadata": {
        "id": "view-in-github",
        "colab_type": "text"
      },
      "source": [
        "<a href=\"https://colab.research.google.com/github/Manireddy69/learning-python/blob/main/leet_code.ipynb\" target=\"_parent\"><img src=\"https://colab.research.google.com/assets/colab-badge.svg\" alt=\"Open In Colab\"/></a>"
      ]
    },
    {
      "cell_type": "code",
      "execution_count": 4,
      "metadata": {
        "colab": {
          "base_uri": "https://localhost:8080/"
        },
        "id": "Qe9VVfVYgNH7",
        "outputId": "4ead8398-19d1-41a2-91ee-df082f528113"
      },
      "outputs": [
        {
          "output_type": "execute_result",
          "data": {
            "text/plain": [
              "[2, 4, 3, 1]"
            ]
          },
          "metadata": {},
          "execution_count": 4
        }
      ],
      "source": [
        "nums = [3,1,2,4]\n",
        "e = []\n",
        "o = []\n",
        "def f(nums):\n",
        "  for num in nums:\n",
        "    if num % 2 == 0:\n",
        "      e.append(num)\n",
        "    else:o.append(num)\n",
        "  return e + o\n",
        "\n",
        "f(nums)\n"
      ]
    },
    {
      "cell_type": "code",
      "source": [
        "aliceSizes = [2]\n",
        "bobSizes = [1,3]\n",
        "def l(aliceSizes, bobSizes):\n",
        "  if aliceSizes in bobSizes:\n",
        "    return [aliceSizes[0], bobSizes[0]]\n",
        "  else:\n",
        "    return [max(aliceSizes) , max(bobSizes)]\n",
        "l(aliceSizes,bobSizes)"
      ],
      "metadata": {
        "colab": {
          "base_uri": "https://localhost:8080/"
        },
        "id": "hyl7_C9uh9Ch",
        "outputId": "2cc44bf3-97a6-41e1-bd8c-aa965fab797d"
      },
      "execution_count": 12,
      "outputs": [
        {
          "output_type": "execute_result",
          "data": {
            "text/plain": [
              "[2, 3]"
            ]
          },
          "metadata": {},
          "execution_count": 12
        }
      ]
    }
  ]
}