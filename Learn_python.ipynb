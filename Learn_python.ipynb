{
  "nbformat": 4,
  "nbformat_minor": 0,
  "metadata": {
    "colab": {
      "provenance": [],
      "include_colab_link": true
    },
    "kernelspec": {
      "name": "python3",
      "display_name": "Python 3"
    },
    "language_info": {
      "name": "python"
    }
  },
  "cells": [
    {
      "cell_type": "markdown",
      "metadata": {
        "id": "view-in-github",
        "colab_type": "text"
      },
      "source": [
        "<a href=\"https://colab.research.google.com/github/Manireddy69/learning-python/blob/main/Learn_python.ipynb\" target=\"_parent\"><img src=\"https://colab.research.google.com/assets/colab-badge.svg\" alt=\"Open In Colab\"/></a>"
      ]
    },
    {
      "cell_type": "code",
      "execution_count": null,
      "metadata": {
        "colab": {
          "base_uri": "https://localhost:8080/"
        },
        "id": "9wZbSNf1J1IO",
        "outputId": "f60586bc-a4b4-4025-9572-71934b529f66"
      },
      "outputs": [
        {
          "output_type": "stream",
          "name": "stdout",
          "text": [
            "Enter a integer:14\n",
            "6\n"
          ]
        }
      ],
      "source": [
        "x = int(input(\"Enter a integer:\"))\n",
        "count = 0\n",
        "while x > 0:\n",
        "  if x % 2 == 0:\n",
        "    x /= 2\n",
        "  else:\n",
        "    x -= 1\n",
        "  count += 1\n",
        "print(count)"
      ]
    },
    {
      "cell_type": "code",
      "source": [],
      "metadata": {
        "id": "Ej34pXhLxMJK"
      },
      "execution_count": null,
      "outputs": []
    },
    {
      "cell_type": "code",
      "source": [
        "def f1(x): return x*2\n",
        "def f2(x): return x*4\n",
        "lst = []\n",
        "for i in range(10):\n",
        "  lst.append(f1(f2(i)))\n",
        "print(lst)"
      ],
      "metadata": {
        "colab": {
          "base_uri": "https://localhost:8080/"
        },
        "id": "GtUGlAvca6Nf",
        "outputId": "5e0f6c8c-eace-4e10-e815-5154f0c73a67"
      },
      "execution_count": null,
      "outputs": [
        {
          "output_type": "stream",
          "name": "stdout",
          "text": [
            "[0, 8, 16, 24, 32, 40, 48, 56, 64, 72]\n"
          ]
        }
      ]
    },
    {
      "cell_type": "code",
      "source": [
        "x = [1,2,3,4]\n",
        "list(map(lambda x : x**2,x))"
      ],
      "metadata": {
        "colab": {
          "base_uri": "https://localhost:8080/"
        },
        "id": "LpSqWw5obFVX",
        "outputId": "2e7526d1-4e54-422f-9c02-e0ca4973c0b8"
      },
      "execution_count": null,
      "outputs": [
        {
          "output_type": "execute_result",
          "data": {
            "text/plain": [
              "[1, 4, 9, 16]"
            ]
          },
          "metadata": {},
          "execution_count": 35
        }
      ]
    },
    {
      "cell_type": "code",
      "source": [
        "names = str.split(\"man women ken ben\")\n",
        "names\n",
        "print(sorted(names, key = len))\n",
        "print(names.sort(key = len))"
      ],
      "metadata": {
        "colab": {
          "base_uri": "https://localhost:8080/"
        },
        "id": "idldbvyaq9NR",
        "outputId": "046628f6-df0e-4765-ece0-606d4b81a847"
      },
      "execution_count": null,
      "outputs": [
        {
          "output_type": "stream",
          "name": "stdout",
          "text": [
            "['man', 'ken', 'ben', 'women']\n",
            "None\n"
          ]
        }
      ]
    },
    {
      "cell_type": "code",
      "source": [
        "class employee(object):\n",
        "  numemploye = 0\n",
        "  names = set()\n",
        "  def __init__(self, name, rate):\n",
        "    if name in employee.names:\n",
        "      raise ValueError(f\"{name} bkl already exist in data base\")\n",
        "    self.owed = 0\n",
        "    self.name = name\n",
        "    self.rate = rate\n",
        "    employee.names.add(name)\n",
        "    employee.numemploye += 1\n",
        "    def __del__(self):\n",
        "      employee.numemploye -= 1\n",
        "    def hours(self,numhours):\n",
        "      self.owed += numhours *self.rate\n",
        "      return(\".2f hours worked\" %numhours)\n",
        "\n",
        "    def pay(self):\n",
        "      self.owed = 0\n",
        "      return(\"payed %s\" %self.name)\n"
      ],
      "metadata": {
        "id": "8ARUtD7as6MH"
      },
      "execution_count": null,
      "outputs": []
    },
    {
      "cell_type": "code",
      "source": [
        "emp = employee\n",
        "first_customer = emp(\"jen\", 19.88)\n",
        "second_customer = emp(\"ben\", 18.99)\n",
        "# first_customer = emp(\"Mani\", 19.88)"
      ],
      "metadata": {
        "id": "iuq-tXamtlRT"
      },
      "execution_count": null,
      "outputs": []
    },
    {
      "cell_type": "code",
      "source": [
        "class creditcard(object):\n",
        "  def __init__(self, customer, bank, account, limit):\n",
        "    self._customer = customer\n",
        "    self._bank = bank\n",
        "    self._account = account\n",
        "    self._limit = int(limit) # Convert limit to integer\n",
        "    self._balance = 0\n",
        "  def get_customer(self):\n",
        "    return self._customer\n",
        "  def get_bank(self):\n",
        "    return self._bank\n",
        "  def get_account(self):\n",
        "    return self._account\n",
        "  def get_balance(self):\n",
        "    return self._balance\n",
        "  def charge(self, price):\n",
        "    if price + self._balance > self._limit:\n",
        "      return False\n",
        "    else:\n",
        "      self._balance += price\n",
        "      return True\n",
        "  def make_payment(self, amount):\n",
        "    self._balance -= amount\n",
        "\n",
        "\n",
        "if __name__ == '__main__':\n",
        "  wallet = []\n",
        "  wallet.append(creditcard('Mani', 'SBI', \"69\", \"10000\"))\n",
        "  wallet.append(creditcard('Mahesh', 'SBI', \"70\", \"10000\"))\n",
        "\n",
        "  for i in range(1,17):\n",
        "    wallet[0].charge(10*i)\n",
        "    wallet[1].charge(20*i)\n",
        "\n"
      ],
      "metadata": {
        "id": "bGeM4wXHy8Ok"
      },
      "execution_count": null,
      "outputs": []
    },
    {
      "cell_type": "code",
      "source": [
        "creditcard.get_balance"
      ],
      "metadata": {
        "colab": {
          "base_uri": "https://localhost:8080/",
          "height": 104
        },
        "id": "EtuxLBQR6dAV",
        "outputId": "26f07536-0911-4a66-ba8c-69915891de40"
      },
      "execution_count": null,
      "outputs": [
        {
          "output_type": "execute_result",
          "data": {
            "text/plain": [
              "<function __main__.creditcard.get_balance(self)>"
            ],
            "text/html": [
              "<div style=\"max-width:800px; border: 1px solid var(--colab-border-color);\"><style>\n",
              "      pre.function-repr-contents {\n",
              "        overflow-x: auto;\n",
              "        padding: 8px 12px;\n",
              "        max-height: 500px;\n",
              "      }\n",
              "\n",
              "      pre.function-repr-contents.function-repr-contents-collapsed {\n",
              "        cursor: pointer;\n",
              "        max-height: 100px;\n",
              "      }\n",
              "    </style>\n",
              "    <pre style=\"white-space: initial; background:\n",
              "         var(--colab-secondary-surface-color); padding: 8px 12px;\n",
              "         border-bottom: 1px solid var(--colab-border-color);\"><b>creditcard.get_balance</b><br/>def get_balance()</pre><pre class=\"function-repr-contents function-repr-contents-collapsed\" style=\"\"><a class=\"filepath\" style=\"display:none\" href=\"#\">/tmp/ipython-input-88-2291910163.py</a>&lt;no docstring&gt;</pre></div>"
            ]
          },
          "metadata": {},
          "execution_count": 89
        }
      ]
    },
    {
      "cell_type": "code",
      "source": [
        "x = 10\n",
        "while x>0:\n",
        "  x-= 1\n",
        "  if x % 2 != 0: continue\n",
        "  print(x, end='')"
      ],
      "metadata": {
        "id": "gbjegwkEKIMK",
        "colab": {
          "base_uri": "https://localhost:8080/"
        },
        "outputId": "b6d946d7-770a-4f82-edd4-c2eeda929c5d"
      },
      "execution_count": null,
      "outputs": [
        {
          "output_type": "stream",
          "name": "stdout",
          "text": [
            "86420"
          ]
        }
      ]
    },
    {
      "cell_type": "code",
      "source": [
        "x= [1,2,3,4,5]\n",
        "y = [3,4,5]\n",
        "for i in x:\n",
        "  for j in y:\n",
        "    if i == j:\n",
        "      print(i, j)\n",
        "    else:pass"
      ],
      "metadata": {
        "colab": {
          "base_uri": "https://localhost:8080/"
        },
        "id": "fw-4IOWgLlTz",
        "outputId": "960ea417-214b-45fe-99d8-4ed50edc152c"
      },
      "execution_count": null,
      "outputs": [
        {
          "output_type": "stream",
          "name": "stdout",
          "text": [
            "3 3\n",
            "4 4\n",
            "5 5\n"
          ]
        }
      ]
    },
    {
      "cell_type": "code",
      "source": [
        "def f(n):\n",
        "  if n ==1:\n",
        "    return n\n",
        "\n",
        "  return n +(n-1)\n",
        "  f(n-1)\n",
        "f(4)"
      ],
      "metadata": {
        "id": "BnYFyh-QNell",
        "colab": {
          "base_uri": "https://localhost:8080/"
        },
        "outputId": "81f36702-939b-4a18-dc36-1c6ef1b8c26c"
      },
      "execution_count": null,
      "outputs": [
        {
          "output_type": "execute_result",
          "data": {
            "text/plain": [
              "10"
            ]
          },
          "metadata": {},
          "execution_count": 5
        }
      ]
    },
    {
      "cell_type": "code",
      "source": [
        "x = 10191\n",
        "x = str(x)\n",
        "x[0] # Now you can use split() on the string"
      ],
      "metadata": {
        "colab": {
          "base_uri": "https://localhost:8080/",
          "height": 35
        },
        "id": "fcrQvtLinsgz",
        "outputId": "731115d6-b0ce-46e5-93ac-f302f93deda0"
      },
      "execution_count": null,
      "outputs": [
        {
          "output_type": "execute_result",
          "data": {
            "text/plain": [
              "'1'"
            ],
            "application/vnd.google.colaboratory.intrinsic+json": {
              "type": "string"
            }
          },
          "metadata": {},
          "execution_count": 9
        }
      ]
    },
    {
      "cell_type": "code",
      "source": [
        "def cal(n):\n",
        "  result = 3\n",
        "  if n <= 2:\n",
        "    return result\n",
        "  for i in range(2,n):\n",
        "    result += cal(i) * cal(n-i +1)\n",
        "  return result\n",
        "print(cal(4))"
      ],
      "metadata": {
        "colab": {
          "base_uri": "https://localhost:8080/"
        },
        "id": "Xj8Kg-0eu7VI",
        "outputId": "09caf71a-8aa9-457c-eb94-2fef635ffff1"
      },
      "execution_count": null,
      "outputs": [
        {
          "output_type": "stream",
          "name": "stdout",
          "text": [
            "75\n"
          ]
        }
      ]
    },
    {
      "cell_type": "code",
      "source": [
        "3+3*11"
      ],
      "metadata": {
        "colab": {
          "base_uri": "https://localhost:8080/"
        },
        "id": "7kQDTs0L2du-",
        "outputId": "2676f113-aadc-4947-ddf6-5d95181dc2ac"
      },
      "execution_count": null,
      "outputs": [
        {
          "output_type": "execute_result",
          "data": {
            "text/plain": [
              "36"
            ]
          },
          "metadata": {},
          "execution_count": 2
        }
      ]
    },
    {
      "cell_type": "code",
      "source": [
        "data= [-1, 5,3,6,9,12,15,0]\n",
        "def b(i, data,n):\n",
        "  if i>= n-1:\n",
        "    return 0\n",
        "  elif data[i] < data[i+1]:\n",
        "    return 1 + b(i+1, data, n)\n",
        "  else: return b(i+1, data, n)\n",
        "\n",
        "b(0,data,8)"
      ],
      "metadata": {
        "colab": {
          "base_uri": "https://localhost:8080/"
        },
        "id": "HQJUhqdI62ri",
        "outputId": "fc6c199b-a452-4894-826d-758e77a6a240"
      },
      "execution_count": null,
      "outputs": [
        {
          "output_type": "execute_result",
          "data": {
            "text/plain": [
              "5"
            ]
          },
          "metadata": {},
          "execution_count": 5
        }
      ]
    },
    {
      "cell_type": "code",
      "source": [
        "# class Solution(object):\n",
        "def removeDuplicates(nums):\n",
        "        \"\"\"\n",
        "        :type nums: List[int]\n",
        "        :rtype: int\n",
        "        \"\"\"\n",
        "        if not nums:\n",
        "            return 0\n",
        "        j = 0\n",
        "        for i in range(1, len(nums)):\n",
        "            if nums[j] != nums[i]:\n",
        "                j += 1\n",
        "                nums[j] = nums[i]\n",
        "        return j+1\n",
        "\n",
        "\n",
        "removeDuplicates([1,1,2,3,4,5,6,6])"
      ],
      "metadata": {
        "colab": {
          "base_uri": "https://localhost:8080/"
        },
        "id": "Dvyffl5q6_6j",
        "outputId": "9728a750-d24b-4dd4-b84a-deefb4a40c2b"
      },
      "execution_count": null,
      "outputs": [
        {
          "output_type": "execute_result",
          "data": {
            "text/plain": [
              "6"
            ]
          },
          "metadata": {},
          "execution_count": 6
        }
      ]
    },
    {
      "cell_type": "code",
      "source": [
        "def check_substring(s, x):\n",
        "  \"\"\"\n",
        "  Checks if substring x is present in string s.\n",
        "\n",
        "  Args:\n",
        "    s: The main string.\n",
        "    x: The substring to check for.\n",
        "\n",
        "  Returns:\n",
        "    True if x is in s, False otherwise.\n",
        "  \"\"\"\n",
        "  if sorted(x) == sorted(y):\n",
        "    return True\n",
        "  return False\n",
        "\n",
        "s = list('anagram')\n",
        "t = list('nagaram')\n",
        "x = list('rat')\n",
        "y = list('cat')\n",
        "# s = sorted(s)\n",
        "# t = sorted(t)\n",
        "\n",
        "print(check_substring(s, t))\n",
        "# print(check_substring(x,y))"
      ],
      "metadata": {
        "colab": {
          "base_uri": "https://localhost:8080/"
        },
        "id": "BIJPXDUoxONA",
        "outputId": "785884cd-ed0b-4293-fd39-d41dfcf1ee83"
      },
      "execution_count": null,
      "outputs": [
        {
          "output_type": "stream",
          "name": "stdout",
          "text": [
            "False\n"
          ]
        }
      ]
    },
    {
      "cell_type": "code",
      "source": [
        "def find_common_elements(x, y):\n",
        "  \"\"\"\n",
        "  Finds distinct common elements in two lists.\n",
        "\n",
        "  Args:\n",
        "    x: The first list.\n",
        "    y: The second list.\n",
        "\n",
        "  Returns:\n",
        "    A list of distinct common elements.\n",
        "  \"\"\"\n",
        "  common_elements = []\n",
        "  for i in x:\n",
        "    for j in y:\n",
        "      if i == j:\n",
        "        common_elements.append(i)\n",
        "  return list(set(common_elements))\n",
        "\n",
        "x = [1, 2,2,2, 3, 4]\n",
        "y = [3,3, 4]\n",
        "print(find_common_elements(x, y))"
      ],
      "metadata": {
        "colab": {
          "base_uri": "https://localhost:8080/"
        },
        "id": "qrSzmHQXxtVX",
        "outputId": "aa021b2c-2755-4fa2-c02e-34dc1e05e154"
      },
      "execution_count": null,
      "outputs": [
        {
          "output_type": "stream",
          "name": "stdout",
          "text": [
            "[3, 4]\n"
          ]
        }
      ]
    },
    {
      "cell_type": "code",
      "source": [
        "x = [3,2,2,3]\n",
        "k = 2\n",
        "for i in range(x.count(k)):\n",
        "  x.remove(k)\n",
        "print(x)"
      ],
      "metadata": {
        "colab": {
          "base_uri": "https://localhost:8080/"
        },
        "id": "sQKwe-zy9PiS",
        "outputId": "27a85f4c-c42a-4bf6-dbd5-ea2a2156e67f"
      },
      "execution_count": null,
      "outputs": [
        {
          "output_type": "stream",
          "name": "stdout",
          "text": [
            "[3, 3]\n"
          ]
        }
      ]
    },
    {
      "cell_type": "code",
      "source": [
        "x = [1,3,5,6]\n",
        "target = 5\n",
        "x[target+2:target]"
      ],
      "metadata": {
        "colab": {
          "base_uri": "https://localhost:8080/"
        },
        "id": "uMuGW18F_T8H",
        "outputId": "c34e70de-fa5b-49ac-a377-c4088d652242"
      },
      "execution_count": null,
      "outputs": [
        {
          "output_type": "execute_result",
          "data": {
            "text/plain": [
              "[]"
            ]
          },
          "metadata": {},
          "execution_count": 48
        }
      ]
    },
    {
      "cell_type": "code",
      "source": [
        "x = [1,3,5,6]\n",
        "target = 2\n",
        "if target in x:\n",
        "  print(x.index(target))\n",
        "else:\n",
        "  x.append(target)\n",
        "  x.sort()\n",
        "  print(x.index(target))\n"
      ],
      "metadata": {
        "colab": {
          "base_uri": "https://localhost:8080/"
        },
        "id": "IN2vZeam_C31",
        "outputId": "cffc50ce-cf12-458f-cd1e-18642360c35e"
      },
      "execution_count": null,
      "outputs": [
        {
          "output_type": "stream",
          "name": "stdout",
          "text": [
            "1\n"
          ]
        }
      ]
    },
    {
      "cell_type": "code",
      "source": [
        "4 % 2"
      ],
      "metadata": {
        "colab": {
          "base_uri": "https://localhost:8080/"
        },
        "id": "H6vVasK8ao2M",
        "outputId": "db551d38-6b20-47de-c7ac-b5485b2102e3"
      },
      "execution_count": null,
      "outputs": [
        {
          "output_type": "execute_result",
          "data": {
            "text/plain": [
              "0"
            ]
          },
          "metadata": {},
          "execution_count": 56
        }
      ]
    },
    {
      "cell_type": "code",
      "metadata": {
        "colab": {
          "base_uri": "https://localhost:8080/"
        },
        "id": "26a36702",
        "outputId": "9f4301fb-41f0-4dd9-926e-820716807a48"
      },
      "source": [
        "x = list('malayalam')\n",
        "for i in range(len(x)):\n",
        "  if len(x) % 2 != 0:\n"
      ],
      "execution_count": null,
      "outputs": [
        {
          "output_type": "stream",
          "name": "stdout",
          "text": [
            "False\n"
          ]
        }
      ]
    },
    {
      "cell_type": "code",
      "source": [
        "# x = \"race a car\".lower()\n",
        "# x = x.replace(',', '').replace(':', '').replace(' ', '')\n",
        "# x = list(x)\n",
        "# print(x)\n",
        "# middle = len(x) //2\n",
        "# print(x[:middle])\n",
        "# print(x[:middle:-1])\n",
        "# print(x[:middle] == x[:middle:-1])"
      ],
      "metadata": {
        "colab": {
          "base_uri": "https://localhost:8080/"
        },
        "id": "FOmZtL8oWTpZ",
        "outputId": "2c8cdb41-c0a2-45ef-871b-09084beae585"
      },
      "execution_count": null,
      "outputs": [
        {
          "output_type": "stream",
          "name": "stdout",
          "text": [
            "['r', 'a', 'c', 'e', 'a', 'c', 'a', 'r']\n",
            "False\n"
          ]
        }
      ]
    },
    {
      "cell_type": "code",
      "source": [],
      "metadata": {
        "id": "ztfi8COScltg"
      },
      "execution_count": null,
      "outputs": []
    },
    {
      "cell_type": "code",
      "source": [
        "s = \"A man, a plan, a canal: Panama\"\n",
        "s = s.lower()\n",
        "s = s.replace(',', '').replace(':', '').replace(' ', '').replace('.','')\n",
        "s = set(list(s))\n",
        "s"
      ],
      "metadata": {
        "colab": {
          "base_uri": "https://localhost:8080/"
        },
        "id": "gZHrUtxsckih",
        "outputId": "576dc78d-f1d3-4246-b9be-a63c8ab2b2e7"
      },
      "execution_count": null,
      "outputs": [
        {
          "output_type": "execute_result",
          "data": {
            "text/plain": [
              "{'a', 'c', 'l', 'm', 'n', 'p'}"
            ]
          },
          "metadata": {},
          "execution_count": 29
        }
      ]
    },
    {
      "cell_type": "code",
      "source": [
        "def f(s,t):\n",
        "  s = 'abcd'\n",
        "  t = 'abcde'\n",
        "  for i in range(len(s)):\n",
        "    if s[i] != t[i]:\n",
        "      return True\n",
        "    return t[-1]\n",
        "\n",
        "f(s,t)\n",
        "\n"
      ],
      "metadata": {
        "colab": {
          "base_uri": "https://localhost:8080/",
          "height": 36
        },
        "id": "IA01Suo-1mK1",
        "outputId": "dd30e468-a0a8-4efd-ffd7-d2d2d28d6013"
      },
      "execution_count": null,
      "outputs": [
        {
          "output_type": "execute_result",
          "data": {
            "text/plain": [
              "'e'"
            ],
            "application/vnd.google.colaboratory.intrinsic+json": {
              "type": "string"
            }
          },
          "metadata": {},
          "execution_count": 13
        }
      ]
    },
    {
      "cell_type": "code",
      "source": [
        "x = [-100,-98,-1,2,3,4]\n",
        "x =sorted(x)\n",
        "print(x)\n",
        "print(max(x[0]*x[1]*x[2], x[0]*x[1]*x[-1] ))"
      ],
      "metadata": {
        "colab": {
          "base_uri": "https://localhost:8080/"
        },
        "id": "1G0Ffa51-kvE",
        "outputId": "3a01f8eb-73f1-47d2-8186-abfa0c1a56c3"
      },
      "execution_count": null,
      "outputs": [
        {
          "output_type": "stream",
          "name": "stdout",
          "text": [
            "[-100, -98, -1, 2, 3, 4]\n",
            "39200\n"
          ]
        }
      ]
    },
    {
      "cell_type": "code",
      "source": [
        "def containsNearbyDuplicate(nums, k):\n",
        "    window = set()\n",
        "    for i in range(len(nums)):\n",
        "        if nums[i] in window:\n",
        "            return True\n",
        "        window.add(nums[i])\n",
        "        if len(window) > k:\n",
        "            window.remove(nums[i - k])\n",
        "    return False\n",
        "\n",
        "containsNearbyDuplicate([1,2,3,1,2,3], 3)"
      ],
      "metadata": {
        "colab": {
          "base_uri": "https://localhost:8080/"
        },
        "id": "7vvsyvmxe11a",
        "outputId": "78bd5acc-84f2-43a6-8b52-da90f45d61c0"
      },
      "execution_count": null,
      "outputs": [
        {
          "output_type": "execute_result",
          "data": {
            "text/plain": [
              "True"
            ]
          },
          "metadata": {},
          "execution_count": 3
        }
      ]
    },
    {
      "cell_type": "code",
      "source": [
        "x = [3,2,1,5]\n",
        "enumerate(x)"
      ],
      "metadata": {
        "colab": {
          "base_uri": "https://localhost:8080/"
        },
        "id": "t40BqV0mgGu-",
        "outputId": "96266697-d3a0-4b2d-862b-0412c09bf8e6"
      },
      "execution_count": null,
      "outputs": [
        {
          "output_type": "execute_result",
          "data": {
            "text/plain": [
              "<enumerate at 0x7ad63fcd8180>"
            ]
          },
          "metadata": {},
          "execution_count": 5
        }
      ]
    },
    {
      "cell_type": "code",
      "metadata": {
        "colab": {
          "base_uri": "https://localhost:8080/"
        },
        "id": "t40BV0mgGu-",
        "outputId": "a600cfc2-7019-48b1-9437-9bbc9d5fb33d"
      },
      "source": [
        "x = [3,2,1,5]\n",
        "print(list(enumerate(x, start = 1)))"
      ],
      "execution_count": null,
      "outputs": [
        {
          "output_type": "stream",
          "name": "stdout",
          "text": [
            "[(1, 3), (2, 2), (3, 1), (4, 5)]\n"
          ]
        }
      ]
    },
    {
      "cell_type": "code",
      "source": [
        "nums1 = [1,2,2,1]\n",
        "nums2 = [2,2]\n",
        "common = []\n",
        "for num in nums1:\n",
        "  if num in nums2:\n",
        "    common.append(num)\n",
        "    nums2.remove(num) # Remove the element to handle duplicates\n",
        "\n",
        "print(common)"
      ],
      "metadata": {
        "colab": {
          "base_uri": "https://localhost:8080/"
        },
        "id": "jHVIPJxjhKus",
        "outputId": "cd624d4e-45dd-44a9-c8b1-86a14ca64525"
      },
      "execution_count": null,
      "outputs": [
        {
          "output_type": "stream",
          "name": "stdout",
          "text": [
            "[2, 2]\n"
          ]
        }
      ]
    },
    {
      "cell_type": "code",
      "source": [
        "d = {0:0,\n",
        "     1:1,\n",
        "     2:1}\n",
        "def fib(n, d):\n",
        "  if n in d:\n",
        "    return(d[n])\n",
        "  else:\n",
        "    return(fib(n-1,d) + fib(n-2,d))\n",
        "fib(4, d)"
      ],
      "metadata": {
        "colab": {
          "base_uri": "https://localhost:8080/"
        },
        "id": "7gHS3my7lLox",
        "outputId": "5b703491-ab0c-4696-a40d-b37013a3c927"
      },
      "execution_count": null,
      "outputs": [
        {
          "output_type": "execute_result",
          "data": {
            "text/plain": [
              "3"
            ]
          },
          "metadata": {},
          "execution_count": 18
        }
      ]
    },
    {
      "cell_type": "code",
      "source": [
        "x = 2.000\n",
        "n = 10\n",
        "\n",
        "\n",
        "def power(x, n):\n",
        "  if n == 0:\n",
        "    return 1\n",
        "  # elif n < 0:\n",
        "  #   return 1 / power(x, -n) # Handle negative exponents\n",
        "  # elif n % 2 == 0:\n",
        "  #   half_power = power(x, n // 2)\n",
        "  #   return half_power * half_power\n",
        "  else:\n",
        "    return x * power(x, n - 1)\n",
        "\n",
        "print(power(x, n))"
      ],
      "metadata": {
        "colab": {
          "base_uri": "https://localhost:8080/"
        },
        "id": "LHUoceVl2_Dt",
        "outputId": "887d729c-acb0-48e1-9e6c-c57fc507a904"
      },
      "execution_count": 10,
      "outputs": [
        {
          "output_type": "stream",
          "name": "stdout",
          "text": [
            "1024.0\n"
          ]
        }
      ]
    },
    {
      "cell_type": "code",
      "source": [],
      "metadata": {
        "id": "1xkunJVZ3Hod"
      },
      "execution_count": null,
      "outputs": []
    }
  ]
}