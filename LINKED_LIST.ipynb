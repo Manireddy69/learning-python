{
  "nbformat": 4,
  "nbformat_minor": 0,
  "metadata": {
    "colab": {
      "provenance": [],
      "include_colab_link": true
    },
    "kernelspec": {
      "name": "python3",
      "display_name": "Python 3"
    },
    "language_info": {
      "name": "python"
    }
  },
  "cells": [
    {
      "cell_type": "markdown",
      "metadata": {
        "id": "view-in-github",
        "colab_type": "text"
      },
      "source": [
        "<a href=\"https://colab.research.google.com/github/Manireddy69/learning-python/blob/main/LINKED_LIST.ipynb\" target=\"_parent\"><img src=\"https://colab.research.google.com/assets/colab-badge.svg\" alt=\"Open In Colab\"/></a>"
      ]
    },
    {
      "cell_type": "code",
      "source": [],
      "metadata": {
        "id": "-NTOU9jH5hgu"
      },
      "execution_count": null,
      "outputs": []
    },
    {
      "cell_type": "code",
      "execution_count": 1,
      "metadata": {
        "colab": {
          "base_uri": "https://localhost:8080/"
        },
        "id": "xvFaUvyzoXV1",
        "outputId": "20e0b247-7285-48ff-e727-3b6d2e535e69"
      },
      "outputs": [
        {
          "output_type": "stream",
          "name": "stdout",
          "text": [
            "1->2->3->"
          ]
        }
      ],
      "source": [
        "class Node:\n",
        "  def __init__(self, data):\n",
        "    self.data = data\n",
        "    self.next = None\n",
        "\n",
        "def print_linked_list(node):\n",
        "  while node is not None:\n",
        "    print(node.data, end = '->')\n",
        "    node = node.next\n",
        "if __name__ == \"__main__\":\n",
        "  head = Node(1)\n",
        "  second = Node(2)\n",
        "  third = Node(3)\n",
        "  head.next =second\n",
        "  second.next = third\n",
        "  print_linked_list(head)"
      ]
    },
    {
      "cell_type": "code",
      "source": [
        "def f(x):\n",
        "  if x % 2 == 0:\n",
        "    print(\"even number bkl\")\n",
        "    return\n",
        "f(3)"
      ],
      "metadata": {
        "id": "VUT15t2c_jjB"
      },
      "execution_count": 2,
      "outputs": []
    },
    {
      "cell_type": "code",
      "source": [
        "#using recursive apporach\n",
        "class Node:\n",
        "  def __init__(self, data):\n",
        "    self.data = data\n",
        "    self.next = None\n",
        "#upto this the beginning code of LInked list\n",
        "\n",
        "def traversal(head):\n",
        "    if head is  None :\n",
        "\n",
        "      print(None)\n",
        "      return\n",
        "    # else: return('bkl')\n",
        "\n",
        "    print(head.data, end = '->')\n",
        "    traversal(head.next)\n",
        "def main(): # don;t forgot to call the function after assigning the Nodes\n",
        "  # head = None\n",
        "  head = Node(1)\n",
        "  head.next = Node(2)\n",
        "  head.next.next = Node(3)\n",
        "  head.next.next.next = Node(4)\n",
        "  traversal(head)\n",
        "  # head = Node(1)\n",
        "  # head.next = Node(2)\n",
        "  # traversal(head)\n",
        "if __name__ == \"__main__\":\n",
        "  main()"
      ],
      "metadata": {
        "colab": {
          "base_uri": "https://localhost:8080/"
        },
        "id": "iwEup3If5hHs",
        "outputId": "65f8381a-abc7-4762-bfd2-2f0d1885635e"
      },
      "execution_count": 3,
      "outputs": [
        {
          "output_type": "stream",
          "name": "stdout",
          "text": [
            "1->2->3->4->None\n"
          ]
        }
      ]
    },
    {
      "cell_type": "code",
      "source": [
        "#circular linked list using iterative approach\n",
        "class Node: # Node class is needed for this cell to run independently\n",
        "    def __init__(self, data):\n",
        "        self.data = data\n",
        "        self.next = None\n",
        "\n",
        "def circular(head):\n",
        "  if head is None:\n",
        "    print(None)\n",
        "    return\n",
        "  temp = head # Start from the head\n",
        "  while True:\n",
        "    print(temp.data, end = '->')\n",
        "    temp = temp.next\n",
        "    if temp == head:\n",
        "      print(None) # Stop when we reach the head again\n",
        "      break\n",
        "  # Removed the extra print statement here\n",
        "\n",
        "def main(): # don;t forgot to call the function after assigning the Nodes\n",
        "  # head = None\n",
        "  head = Node(1)\n",
        "  head.next = Node(1)\n",
        "  head.next.next = Node(3)\n",
        "  head.next.next.next = Node(4)\n",
        "  head.next.next.next.next = head\n",
        "  circular(head) # Pass head as both arguments to start the traversal\n",
        "if __name__ == \"__main__\":\n",
        "  main()"
      ],
      "metadata": {
        "colab": {
          "base_uri": "https://localhost:8080/"
        },
        "id": "oZY14ZZIBw-Z",
        "outputId": "bad965c9-29a2-4c9f-8d31-77cf1ad2d309"
      },
      "execution_count": 4,
      "outputs": [
        {
          "output_type": "stream",
          "name": "stdout",
          "text": [
            "1->1->3->4->None\n"
          ]
        }
      ]
    },
    {
      "cell_type": "code",
      "source": [
        "#circular linked list using recursive approach\n",
        "def print_LL(curr, head):\n",
        "  if head is None:\n",
        "    return\n",
        "  print(curr.data, end = \"->\")\n",
        "  if curr.next == head:\n",
        "    return\n",
        "  # Print the data of the next node and the head node's data\n",
        "  print_LL(curr.next, head)\n",
        "\n",
        "if __name__ == \"__main__\":\n",
        "    class Node: # Define Node class here to make this cell runnable independently\n",
        "        def __init__(self, data):\n",
        "            self.data = data\n",
        "            self.next = None\n",
        "\n",
        "    head = Node(1)\n",
        "    head.next = Node(2)\n",
        "    head.next.next = Node(56)\n",
        "    head.next.next.next = Node(4) # Changed data=None to 4 for better demonstration\n",
        "\n",
        "    head.next.next.next.next = head\n",
        "\n",
        "    print_LL(head, head)"
      ],
      "metadata": {
        "colab": {
          "base_uri": "https://localhost:8080/"
        },
        "id": "W1R34IF5FxGG",
        "outputId": "45914cc1-3c5b-4d4a-8430-8ccf84012285"
      },
      "execution_count": 5,
      "outputs": [
        {
          "output_type": "stream",
          "name": "stdout",
          "text": [
            "1->2->56->4->"
          ]
        }
      ]
    },
    {
      "cell_type": "code",
      "source": [
        "#reverse the linked list\n",
        "def reversed_LL(head):\n",
        "  prev = None\n",
        "  current = head\n",
        "\n",
        "  while current:\n",
        "    next_node = current.next\n",
        "    current.next = prev\n",
        "    prev = current\n",
        "    current = next_node\n",
        "  return prev\n",
        "if __name__ == \"__main__\":\n",
        "\n",
        "  head = Node(1)\n",
        "  head.next = Node(2)\n",
        "  head.next.next = Node(56)\n",
        "  reversed_LL = reversed_LL(head)\n",
        "  current = reversed_LL\n",
        "  while current:\n",
        "    print(current.data, end = ',')\n",
        "    current =current.next\n",
        "  print(\"None\")"
      ],
      "metadata": {
        "colab": {
          "base_uri": "https://localhost:8080/"
        },
        "id": "hKXXWdukI-Us",
        "outputId": "c3cf33ee-2576-4ec4-d520-0e6e67b27a84"
      },
      "execution_count": 6,
      "outputs": [
        {
          "output_type": "stream",
          "name": "stdout",
          "text": [
            "56,2,1,None\n"
          ]
        }
      ]
    },
    {
      "cell_type": "code",
      "source": [
        "class node:\n",
        "  def __init__(self, data):\n",
        "    self.data = data\n",
        "    self.next = None\n",
        "#reversed LL using stack\n",
        "head = node(1)\n",
        "head.next = node(2)\n",
        "head.next.next = node(56)\n",
        "def reverse_ll(head):\n",
        "  stack = []\n",
        "  temp = head\n",
        "  while temp is not None:\n",
        "    stack.append(temp)\n",
        "    temp = temp.next\n",
        "\n",
        "  if not stack:\n",
        "      return None\n",
        "\n",
        "  head = stack.pop()\n",
        "  temp = head\n",
        "  while stack:\n",
        "    temp.next = stack.pop()\n",
        "    temp = temp.next\n",
        "\n",
        "  temp.next = None\n",
        "  return head\n",
        "\n",
        "def print_reversed_list(node):\n",
        "  while node is not None:\n",
        "    print(node.data, end = \"->\")\n",
        "    node = node.next\n",
        "  # print()\n",
        "\n",
        "reversed_head = reverse_ll(head)\n",
        "print_reversed_list(reversed_head)"
      ],
      "metadata": {
        "colab": {
          "base_uri": "https://localhost:8080/"
        },
        "id": "7rNVP8TiYBvv",
        "outputId": "b4d3a58d-4663-4fb8-cbbd-0e2f2edf0295"
      },
      "execution_count": 7,
      "outputs": [
        {
          "output_type": "stream",
          "name": "stdout",
          "text": [
            "56->2->1->"
          ]
        }
      ]
    },
    {
      "cell_type": "code",
      "source": [],
      "metadata": {
        "id": "DciqEiBS9acj"
      },
      "execution_count": null,
      "outputs": []
    },
    {
      "cell_type": "code",
      "source": [
        "#count the number of elements in LL\n",
        "def count(head):\n",
        "  count = 0\n",
        "  curr = head\n",
        "  while curr is not None:\n",
        "    count += 1\n",
        "    curr = curr.next\n",
        "  return count\n",
        "\n",
        "def count_recursive(head):\n",
        "  # count = 0\n",
        "  if head is None:\n",
        "    return 0\n",
        "  else :return(1+ count_recursive(head=head.next))\n",
        "if __name__ == \"__main__\":\n",
        "\n",
        "  head = Node(1)\n",
        "  head.next = Node(2)\n",
        "  head.next.next = Node(56)\n",
        "count(head)\n",
        "print(count(head))"
      ],
      "metadata": {
        "colab": {
          "base_uri": "https://localhost:8080/"
        },
        "id": "qv5G-NM7K9V-",
        "outputId": "04261ef1-3743-41a9-bad6-de377ff0c811"
      },
      "execution_count": 18,
      "outputs": [
        {
          "output_type": "stream",
          "name": "stdout",
          "text": [
            "3\n"
          ]
        }
      ]
    },
    {
      "cell_type": "code",
      "source": [],
      "metadata": {
        "colab": {
          "base_uri": "https://localhost:8080/"
        },
        "id": "FawVXTJr9bE5",
        "outputId": "a4dd85e6-9381-40c0-be40-a72bb4bc6fdd"
      },
      "execution_count": 14,
      "outputs": [
        {
          "output_type": "stream",
          "name": "stdout",
          "text": [
            "range(0, 3)\n",
            "[]\n"
          ]
        }
      ]
    },
    {
      "cell_type": "code",
      "source": [],
      "metadata": {
        "id": "pQL5rgyfAIpK"
      },
      "execution_count": null,
      "outputs": []
    },
    {
      "cell_type": "code",
      "source": [],
      "metadata": {
        "colab": {
          "base_uri": "https://localhost:8080/"
        },
        "id": "zzxlGylMB_2V",
        "outputId": "7edec03a-ee93-42ee-e6ee-d95f1455cbdf"
      },
      "execution_count": 17,
      "outputs": [
        {
          "output_type": "execute_result",
          "data": {
            "text/plain": [
              "6"
            ]
          },
          "metadata": {},
          "execution_count": 17
        }
      ]
    }
  ]
}