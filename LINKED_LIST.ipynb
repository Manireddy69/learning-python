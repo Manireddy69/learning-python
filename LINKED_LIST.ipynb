{
  "nbformat": 4,
  "nbformat_minor": 0,
  "metadata": {
    "colab": {
      "provenance": [],
      "include_colab_link": true
    },
    "kernelspec": {
      "name": "python3",
      "display_name": "Python 3"
    },
    "language_info": {
      "name": "python"
    }
  },
  "cells": [
    {
      "cell_type": "markdown",
      "metadata": {
        "id": "view-in-github",
        "colab_type": "text"
      },
      "source": [
        "<a href=\"https://colab.research.google.com/github/Manireddy69/learning-python/blob/main/LINKED_LIST.ipynb\" target=\"_parent\"><img src=\"https://colab.research.google.com/assets/colab-badge.svg\" alt=\"Open In Colab\"/></a>"
      ]
    },
    {
      "cell_type": "code",
      "source": [],
      "metadata": {
        "id": "-NTOU9jH5hgu"
      },
      "execution_count": null,
      "outputs": []
    },
    {
      "cell_type": "code",
      "execution_count": null,
      "metadata": {
        "colab": {
          "base_uri": "https://localhost:8080/"
        },
        "id": "xvFaUvyzoXV1",
        "outputId": "20e0b247-7285-48ff-e727-3b6d2e535e69"
      },
      "outputs": [
        {
          "output_type": "stream",
          "name": "stdout",
          "text": [
            "1->2->3->"
          ]
        }
      ],
      "source": [
        "class Node:\n",
        "  def __init__(self, data):\n",
        "    self.data = data\n",
        "    self.next = None\n",
        "\n",
        "def print_linked_list(node):\n",
        "  while node is not None:\n",
        "    print(node.data, end = '->')\n",
        "    node = node.next\n",
        "if __name__ == \"__main__\":\n",
        "  head = Node(1)\n",
        "  second = Node(2)\n",
        "  third = Node(3)\n",
        "  head.next =second\n",
        "  second.next = third\n",
        "  print_linked_list(head)"
      ]
    },
    {
      "cell_type": "code",
      "source": [
        "def f(x):\n",
        "  if x % 2 == 0:\n",
        "    print(\"even number bkl\")\n",
        "    return\n",
        "f(3)"
      ],
      "metadata": {
        "id": "VUT15t2c_jjB"
      },
      "execution_count": null,
      "outputs": []
    },
    {
      "cell_type": "code",
      "source": [
        "#using recursive apporach\n",
        "class Node:\n",
        "  def __init__(self, data):\n",
        "    self.data = data\n",
        "    self.next = None\n",
        "#upto this the beginning code of LInked list\n",
        "\n",
        "def traversal(head):\n",
        "    if head is  None :\n",
        "\n",
        "      print(None)\n",
        "      return\n",
        "    # else: return('bkl')\n",
        "\n",
        "    print(head.data, end = '->')\n",
        "    traversal(head.next)\n",
        "def main(): # don;t forgot to call the function after assigning the Nodes\n",
        "  # head = None\n",
        "  head = Node(1)\n",
        "  head.next = Node(2)\n",
        "  head.next.next = Node(3)\n",
        "  head.next.next.next = Node(4)\n",
        "  traversal(head)\n",
        "  # head = Node(1)\n",
        "  # head.next = Node(2)\n",
        "  # traversal(head)\n",
        "if __name__ == \"__main__\":\n",
        "  main()"
      ],
      "metadata": {
        "colab": {
          "base_uri": "https://localhost:8080/"
        },
        "id": "iwEup3If5hHs",
        "outputId": "65f8381a-abc7-4762-bfd2-2f0d1885635e"
      },
      "execution_count": null,
      "outputs": [
        {
          "output_type": "stream",
          "name": "stdout",
          "text": [
            "1->2->3->4->None\n"
          ]
        }
      ]
    },
    {
      "cell_type": "code",
      "source": [
        "#circular linked list using iterative approach\n",
        "class Node: # Node class is needed for this cell to run independently\n",
        "    def __init__(self, data):\n",
        "        self.data = data\n",
        "        self.next = None\n",
        "\n",
        "def circular(head):\n",
        "  if head is None:\n",
        "    print(None)\n",
        "    return\n",
        "  temp = head # Start from the head\n",
        "  while True:\n",
        "    print(temp.data, end = '->')\n",
        "    temp = temp.next\n",
        "    if temp == head:\n",
        "      print(None) # Stop when we reach the head again\n",
        "      break\n",
        "  # Removed the extra print statement here\n",
        "\n",
        "def main(): # don;t forgot to call the function after assigning the Nodes\n",
        "  # head = None\n",
        "  head = Node(1)\n",
        "  head.next = Node(1)\n",
        "  head.next.next = Node(3)\n",
        "  head.next.next.next = Node(4)\n",
        "  head.next.next.next.next = head\n",
        "  circular(head) # Pass head as both arguments to start the traversal\n",
        "if __name__ == \"__main__\":\n",
        "  main()"
      ],
      "metadata": {
        "colab": {
          "base_uri": "https://localhost:8080/"
        },
        "id": "oZY14ZZIBw-Z",
        "outputId": "bad965c9-29a2-4c9f-8d31-77cf1ad2d309"
      },
      "execution_count": null,
      "outputs": [
        {
          "output_type": "stream",
          "name": "stdout",
          "text": [
            "1->1->3->4->None\n"
          ]
        }
      ]
    },
    {
      "cell_type": "code",
      "source": [
        "#circular linked list using recursive approach\n",
        "def print_LL(curr, head):\n",
        "  if head is None:\n",
        "    return\n",
        "  print(curr.data, end = \"->\")\n",
        "  if curr.next == head:\n",
        "    return\n",
        "  # Print the data of the next node and the head node's data\n",
        "  print_LL(curr.next, head)\n",
        "\n",
        "if __name__ == \"__main__\":\n",
        "    class Node: # Define Node class here to make this cell runnable independently\n",
        "        def __init__(self, data):\n",
        "            self.data = data\n",
        "            self.next = None\n",
        "\n",
        "    head = Node(1)\n",
        "    head.next = Node(2)\n",
        "    head.next.next = Node(56)\n",
        "    head.next.next.next = Node(4) # Changed data=None to 4 for better demonstration\n",
        "\n",
        "    head.next.next.next.next = head\n",
        "\n",
        "    print_LL(head, head)"
      ],
      "metadata": {
        "colab": {
          "base_uri": "https://localhost:8080/"
        },
        "id": "W1R34IF5FxGG",
        "outputId": "45914cc1-3c5b-4d4a-8430-8ccf84012285"
      },
      "execution_count": null,
      "outputs": [
        {
          "output_type": "stream",
          "name": "stdout",
          "text": [
            "1->2->56->4->"
          ]
        }
      ]
    },
    {
      "cell_type": "code",
      "source": [
        "#reverse the linked list\n",
        "def reversed_LL(head):\n",
        "  prev = None\n",
        "  current = head\n",
        "\n",
        "  while current:\n",
        "    next_node = current.next\n",
        "    current.next = prev\n",
        "    prev = current\n",
        "    current = next_node\n",
        "  return prev\n",
        "if __name__ == \"__main__\":\n",
        "\n",
        "  head = Node(1)\n",
        "  head.next = Node(2)\n",
        "  head.next.next = Node(56)\n",
        "  reversed_LL = reversed_LL(head)\n",
        "  current = reversed_LL\n",
        "  while current:\n",
        "    print(current.data, end = ',')\n",
        "    current =current.next\n",
        "  print(\"None\")"
      ],
      "metadata": {
        "colab": {
          "base_uri": "https://localhost:8080/"
        },
        "id": "hKXXWdukI-Us",
        "outputId": "c3cf33ee-2576-4ec4-d520-0e6e67b27a84"
      },
      "execution_count": null,
      "outputs": [
        {
          "output_type": "stream",
          "name": "stdout",
          "text": [
            "56,2,1,None\n"
          ]
        }
      ]
    },
    {
      "cell_type": "code",
      "source": [
        "#reversed LL using stack\n",
        "class node:\n",
        "  def __init__(self, data):\n",
        "    self.data = data\n",
        "    self.next = None\n",
        "\n",
        "head = node(1)\n",
        "head.next = node(2)\n",
        "head.next.next = node(56)\n",
        "def rev_LL(head):\n",
        "  stack = []\n",
        "  temp = head\n",
        "  while temp is not None:\n",
        "    stack.append(temp)\n",
        "    temp = temp.next\n",
        "\n",
        "  new_head = stack.pop() # The last node in the stack becomes the new head\n",
        "  temp = new_head\n",
        "  while stack:\n",
        "    temp.next = stack.pop()\n",
        "    temp = temp.next\n",
        "\n",
        "  temp.next = None # The last node in the reversed list should point to None\n",
        "  return new_head # Return the new head of the reversed list\n",
        "\n",
        "def print_LL(head):\n",
        "  while head is not None:\n",
        "    print(head.data, end = '->')\n",
        "    head= head.next\n",
        "  print(\"None\") # Print None at the end of the list\n",
        "# print_LL(head) # Removed this line to avoid printing the original list\n",
        "\n",
        "head = rev_LL(head)\n",
        "print_LL(head) # Print the reversed list"
      ],
      "metadata": {
        "colab": {
          "base_uri": "https://localhost:8080/"
        },
        "id": "7rNVP8TiYBvv",
        "outputId": "eb7d249c-b678-464f-f4a0-a1f24ae6c6f9"
      },
      "execution_count": null,
      "outputs": [
        {
          "output_type": "stream",
          "name": "stdout",
          "text": [
            "56->2->1->None\n"
          ]
        }
      ]
    },
    {
      "cell_type": "code",
      "source": [
        "class Node:\n",
        "  def __init__(self, data):\n",
        "    self.data = data\n",
        "    self.next = None\n",
        "head = Node(1)\n",
        "head.next = Node(2)\n",
        "head.next.next = Node(3)\n",
        "head.next.next.next = Node(4)\n",
        "\n",
        "def cout(head):\n",
        "  count = 0\n",
        "  curr = head\n",
        "  while curr is not None: # Changed condition to check curr instead of head\n",
        "    count += 1\n",
        "    curr = curr.next\n",
        "  return count\n",
        "cout(head)\n",
        "\n",
        "def count(head): # counting elements using iterative approach\n",
        "  if head is None:\n",
        "    return 0 # don't forget to assing 0 because 1 + None is error for last iteration\n",
        "  return (1 + count(head.next))\n",
        "count(head)\n"
      ],
      "metadata": {
        "colab": {
          "base_uri": "https://localhost:8080/"
        },
        "id": "aqcgje-tNQzE",
        "outputId": "b9f2c136-023a-4c0f-e4dc-d5dfb4448cc3"
      },
      "execution_count": null,
      "outputs": [
        {
          "output_type": "execute_result",
          "data": {
            "text/plain": [
              "4"
            ]
          },
          "metadata": {},
          "execution_count": 6
        }
      ]
    },
    {
      "cell_type": "code",
      "source": [],
      "metadata": {
        "id": "DciqEiBS9acj"
      },
      "execution_count": null,
      "outputs": []
    },
    {
      "cell_type": "code",
      "source": [
        "#count the number of elements in LL\n",
        "def count(head):\n",
        "  count = 0\n",
        "  curr = head\n",
        "  while curr is not None:\n",
        "    count += 1\n",
        "    curr = curr.next\n",
        "  return count\n",
        "\n",
        "def count_recursive(head):\n",
        "  # count = 0\n",
        "  if head is None:\n",
        "    return 0\n",
        "  else :return(1+ count_recursive(head=head.next))\n",
        "if __name__ == \"__main__\":\n",
        "\n",
        "  head = Node(1)\n",
        "  head.next = Node(2)\n",
        "  head.next.next = Node(56)\n",
        "count(head)\n",
        "print(count(head))"
      ],
      "metadata": {
        "colab": {
          "base_uri": "https://localhost:8080/"
        },
        "id": "qv5G-NM7K9V-",
        "outputId": "04261ef1-3743-41a9-bad6-de377ff0c811"
      },
      "execution_count": null,
      "outputs": [
        {
          "output_type": "stream",
          "name": "stdout",
          "text": [
            "3\n"
          ]
        }
      ]
    },
    {
      "cell_type": "code",
      "source": [
        "class Node:\n",
        "  def __init__(self, data):\n",
        "    self.data = data\n",
        "    self.next = None\n",
        "head = Node(6)\n",
        "head.next = Node(9)\n",
        "head.next.next = Node(4)\n",
        "head.next.next.next = Node(5)\n",
        "def del_1(head):\n",
        "  if head is None:\n",
        "    return None\n",
        "  temp = head #store the first element\n",
        "  head   = head.next # make new pointer at next head\n",
        "  del temp #nikaldo bkl ko\n",
        "  return head\n",
        "head  = del_1(head)\n",
        "print_LL(head)"
      ],
      "metadata": {
        "colab": {
          "base_uri": "https://localhost:8080/"
        },
        "id": "FawVXTJr9bE5",
        "outputId": "4f9b6b10-8d96-47f8-eee8-f0921ce7cca4"
      },
      "execution_count": null,
      "outputs": [
        {
          "output_type": "stream",
          "name": "stdout",
          "text": [
            "9->4->5->None\n"
          ]
        }
      ]
    },
    {
      "cell_type": "code",
      "source": [
        "class Node:\n",
        "  def __init__(self, data):\n",
        "    self.data = data\n",
        "    self.next = None\n",
        "head = Node(1)\n",
        "head.next = Node(2)\n",
        "head.next.next = Node(3)\n",
        "head.next.next.next = Node(4)\n",
        "\n",
        "def del_last_element(head):\n",
        "  if not head:\n",
        "    return None\n",
        "\n",
        "  if not head.next:\n",
        "    return None\n",
        "  current = head\n",
        "  while current.next.next:\n",
        "    current = current.next\n",
        "\n",
        "  current.next = None\n",
        "  return head\n",
        "# head = print_LL(head)\n",
        "def print_ll(head):\n",
        "  while head:\n",
        "    print(head.data, end = '->')\n",
        "    head = head.next\n",
        "  print(None)\n",
        "\n",
        "\n",
        "\n",
        "head = del_last_element(head)\n",
        "print_ll(head)"
      ],
      "metadata": {
        "colab": {
          "base_uri": "https://localhost:8080/"
        },
        "id": "W7AtpOfoot_j",
        "outputId": "f4da9a0f-c391-48e5-8263-b7adfdab077c"
      },
      "execution_count": null,
      "outputs": [
        {
          "output_type": "stream",
          "name": "stdout",
          "text": [
            "1->2->3->None\n"
          ]
        }
      ]
    },
    {
      "cell_type": "code",
      "metadata": {
        "id": "b46ea8ed",
        "colab": {
          "base_uri": "https://localhost:8080/"
        },
        "outputId": "28e0a5c7-c3db-47d6-ba2c-367bf8ffcdfb"
      },
      "source": [
        "#searching an element in LL\n",
        "class Node:\n",
        "  def __init__(self, data):\n",
        "    self.data = data\n",
        "    self.next = None\n",
        "head = Node(2)\n",
        "head.next = Node(69)\n",
        "head.next.next = Node(45)\n",
        "head.next.next.next = Node(18)\n",
        "\n",
        "def search_LL(head, key):\n",
        "  curr = head\n",
        "  while curr is not None:\n",
        "    if curr.data == key:\n",
        "      return(\"The number\" ,key,\"is in LL\")\n",
        "    curr = curr.next\n",
        "  return (\"The number\", key, \"Not in LL\")\n",
        "# print(search_LL(head, 69))\n",
        "\n",
        "def print_LL(head):\n",
        "  while head is not None:\n",
        "    print(head.data, end = '->')\n",
        "    head = head.next\n",
        "  print(None)\n",
        "\n",
        "print_LL(head)\n",
        "search_LL(head, 18)"
      ],
      "execution_count": 7,
      "outputs": [
        {
          "output_type": "stream",
          "name": "stdout",
          "text": [
            "2->69->45->18->None\n"
          ]
        },
        {
          "output_type": "execute_result",
          "data": {
            "text/plain": [
              "('The number', 18, 'is in LL')"
            ]
          },
          "metadata": {},
          "execution_count": 7
        }
      ]
    },
    {
      "cell_type": "code",
      "source": [
        "def insert(head, pos, element):\n",
        "  if pos <1:\n",
        "    return head\n",
        "  if pos == 1:\n",
        "\n",
        "    new_node = Node(element)\n",
        "    new_node.next = head\n",
        "    # return new_node\n",
        "  curr = head\n",
        "  for i in range(1, pos-1):\n",
        "    if curr == None:\n",
        "      break\n",
        "    curr = curr.next\n",
        "  if curr is None:\n",
        "    return head\n",
        "\n",
        "  new_node = Node(element)\n",
        "  new_node.next = curr.next\n",
        "  curr.next = new_node\n",
        "  return head\n",
        "\n",
        "# Re-initialize the linked list before inserting to demonstrate a single insertion per cell execution\n",
        "head = Node(2)\n",
        "head.next = Node(69)\n",
        "head.next.next = Node(45)\n",
        "head.next.next.next = Node(18)\n",
        "\n",
        "insert(head=head,pos=3, element=3)\n",
        "print_LL(head)"
      ],
      "metadata": {
        "colab": {
          "base_uri": "https://localhost:8080/"
        },
        "id": "mb4ZOFBW5Tlk",
        "outputId": "a410fe2c-e51a-443a-c7cd-95fbab27ce0f"
      },
      "execution_count": null,
      "outputs": [
        {
          "output_type": "stream",
          "name": "stdout",
          "text": [
            "2->69->3->45->18->None\n"
          ]
        }
      ]
    },
    {
      "cell_type": "code",
      "source": [
        "# add element to the last in LL\n",
        "def append(head, element):\n",
        "  if head is None:\n",
        "    return False\n",
        "  new_node = Node(element)\n",
        "  last = head\n",
        "\n",
        "  while last.next:\n",
        "    last =last.next\n",
        "\n",
        "  last.next = new_node\n",
        "  return head\n",
        "head = Node(2)\n",
        "head.next = Node(69)\n",
        "head.next.next = Node(45)\n",
        "head.next.next.next = Node(18)\n",
        "append(head, 5)\n",
        "print_LL(head)"
      ],
      "metadata": {
        "colab": {
          "base_uri": "https://localhost:8080/"
        },
        "id": "5UUkr2b9Jjat",
        "outputId": "819a4a94-ec01-45bc-f7ad-963812a77514"
      },
      "execution_count": null,
      "outputs": [
        {
          "output_type": "stream",
          "name": "stdout",
          "text": [
            "2->69->45->18->5->None\n"
          ]
        }
      ]
    },
    {
      "cell_type": "code",
      "source": [
        "#leetcode LL definition\n",
        "class ListNode(object):\n",
        "    def __init__(self, val=0, next=None):\n",
        "        self.val = val\n",
        "        self.next = next\n",
        "\n",
        "class Solution(object):\n",
        "    def addTwoNumbers(self, l1, l2):\n",
        "      # Convert lists to integers\n",
        "      num1 = int(\"\".join(map(str, l1[::-1])))\n",
        "      num2 = int(\"\".join(map(str, l2[::-1])))\n",
        "\n",
        "      # Add the integers\n",
        "      total = num1 + num2\n",
        "\n",
        "      # Convert the sum back to a list in reversed order\n",
        "      result = [int(digit) for digit in str(total)][::-1]\n",
        "      return result\n",
        "\n",
        "# Example usage (assuming Node class is defined elsewhere or in a previous cell)\n",
        "# If Node class is not defined, you'll need to define it here or in a separate cell\n",
        "# class Node:\n",
        "#   def __init__(self, data):\n",
        "#     self.data = data\n",
        "#     self.next = None\n",
        "\n",
        "# Create sample lists (representing numbers in reverse order)\n",
        "l1 = [2, 4, 3] # Represents 342\n",
        "l2 = [5, 6, 4] # Represents 465\n",
        "\n",
        "solution = Solution()\n",
        "result_list = solution.addTwoNumbers(l1, l2)\n",
        "print(result_list) # Expected output: [7, 0, 8] (representing 807)\n",
        "\n",
        "l1 = [0]\n",
        "l2 = [0]\n",
        "result_list = solution.addTwoNumbers(l1, l2)\n",
        "print(result_list) # Expected output: [0]\n",
        "\n",
        "l1 = [9,9,9,9,9,9,9]\n",
        "l2 = [9,9,9,9]\n",
        "result_list = solution.addTwoNumbers(l1, l2)\n",
        "print(result_list) # Expected output: [8,9,9,9,0,0,0,1]"
      ],
      "metadata": {
        "colab": {
          "base_uri": "https://localhost:8080/"
        },
        "id": "rH9KOBOj7D1m",
        "outputId": "53f9d721-c0e1-4fbb-f82c-d80b2f0b9c83"
      },
      "execution_count": null,
      "outputs": [
        {
          "output_type": "stream",
          "name": "stdout",
          "text": [
            "[7, 0, 8]\n",
            "[0]\n",
            "[8, 9, 9, 9, 0, 0, 0, 1]\n"
          ]
        }
      ]
    },
    {
      "cell_type": "code",
      "source": [
        "#to find element using index\n",
        "class Node:\n",
        "  def __init__(self, data):\n",
        "    self.data = data\n",
        "    self.next = None\n",
        "head = Node(6)\n",
        "head.next = Node(3)\n",
        "head.next.next = Node(8)\n",
        "head.next.next.next = Node(9)\n",
        "\n",
        "def f(head, index):\n",
        "  if head is None:\n",
        "    return -1\n",
        "  if index == 0 :\n",
        "    print(head.data)\n",
        "  if index == 1:\n",
        "    print(head.next.data)\n",
        "  else:\n",
        "    f(head.next, index -1)\n",
        "\n",
        "\n",
        "f(head, 2)"
      ],
      "metadata": {
        "colab": {
          "base_uri": "https://localhost:8080/"
        },
        "id": "srUalUWMA_9C",
        "outputId": "23880fb8-4f85-499a-ea58-81e6679f162c"
      },
      "execution_count": 29,
      "outputs": [
        {
          "output_type": "stream",
          "name": "stdout",
          "text": [
            "8\n"
          ]
        }
      ]
    },
    {
      "cell_type": "code",
      "source": [
        "#using iterative approach\n",
        "\n",
        "def f_i(head, index):\n",
        "  curr = head\n",
        "  count = 1\n",
        "  while curr is not None:\n",
        "    if count == index :\n",
        "      print(curr.data)\n",
        "    else:\n",
        "      return('index out of range')\n",
        "f(head, 2)"
      ],
      "metadata": {
        "colab": {
          "base_uri": "https://localhost:8080/"
        },
        "id": "dQnksTcyBGTf",
        "outputId": "02f00b37-80eb-4ff4-ea43-f939a1b6323f"
      },
      "execution_count": 32,
      "outputs": [
        {
          "output_type": "stream",
          "name": "stdout",
          "text": [
            "8\n"
          ]
        }
      ]
    },
    {
      "cell_type": "code",
      "source": [],
      "metadata": {
        "id": "iHcAh4MgGOdz"
      },
      "execution_count": null,
      "outputs": []
    }
  ]
}