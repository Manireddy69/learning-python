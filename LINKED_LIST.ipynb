{
  "nbformat": 4,
  "nbformat_minor": 0,
  "metadata": {
    "colab": {
      "provenance": [],
      "include_colab_link": true
    },
    "kernelspec": {
      "name": "python3",
      "display_name": "Python 3"
    },
    "language_info": {
      "name": "python"
    }
  },
  "cells": [
    {
      "cell_type": "markdown",
      "metadata": {
        "id": "view-in-github",
        "colab_type": "text"
      },
      "source": [
        "<a href=\"https://colab.research.google.com/github/Manireddy69/learning-python/blob/main/LINKED_LIST.ipynb\" target=\"_parent\"><img src=\"https://colab.research.google.com/assets/colab-badge.svg\" alt=\"Open In Colab\"/></a>"
      ]
    },
    {
      "cell_type": "code",
      "execution_count": null,
      "metadata": {
        "colab": {
          "base_uri": "https://localhost:8080/"
        },
        "id": "xvFaUvyzoXV1",
        "outputId": "7b70704f-bb91-473d-be07-406f9acf7c1f"
      },
      "outputs": [
        {
          "output_type": "stream",
          "name": "stdout",
          "text": [
            "1->2->3->"
          ]
        }
      ],
      "source": [
        "class Node:\n",
        "  def __init__(self, data):\n",
        "    self.data = data\n",
        "    self.next = None\n",
        "\n",
        "def print_list(node):\n",
        "  while node is not None:\n",
        "    print(node.data, end = '->')\n",
        "    node = node.next\n",
        "\n",
        "if __name__ == \"__main__\":\n",
        "  # head = Node(1)\n",
        "  # second = Node(2)\n",
        "  # third = Node(3)\n",
        "\n",
        "  # head.next =second\n",
        "  # second.next = third\n",
        "  print_list(head)"
      ]
    }
  ]
}