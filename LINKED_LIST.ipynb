{
  "nbformat": 4,
  "nbformat_minor": 0,
  "metadata": {
    "colab": {
      "provenance": [],
      "include_colab_link": true
    },
    "kernelspec": {
      "name": "python3",
      "display_name": "Python 3"
    },
    "language_info": {
      "name": "python"
    }
  },
  "cells": [
    {
      "cell_type": "markdown",
      "metadata": {
        "id": "view-in-github",
        "colab_type": "text"
      },
      "source": [
        "<a href=\"https://colab.research.google.com/github/Manireddy69/learning-python/blob/main/LINKED_LIST.ipynb\" target=\"_parent\"><img src=\"https://colab.research.google.com/assets/colab-badge.svg\" alt=\"Open In Colab\"/></a>"
      ]
    },
    {
      "cell_type": "code",
      "source": [],
      "metadata": {
        "id": "-NTOU9jH5hgu"
      },
      "execution_count": null,
      "outputs": []
    },
    {
      "cell_type": "code",
      "execution_count": 26,
      "metadata": {
        "colab": {
          "base_uri": "https://localhost:8080/",
          "height": 297
        },
        "id": "xvFaUvyzoXV1",
        "outputId": "58b6cb90-2d5d-4863-e062-5accad7980d6"
      },
      "outputs": [
        {
          "output_type": "error",
          "ename": "TypeError",
          "evalue": "print() got an unexpected keyword argument 'end'",
          "traceback": [
            "\u001b[0;31m---------------------------------------------------------------------------\u001b[0m",
            "\u001b[0;31mTypeError\u001b[0m                                 Traceback (most recent call last)",
            "\u001b[0;32m/tmp/ipython-input-26-1815065720.py\u001b[0m in \u001b[0;36m<cell line: 0>\u001b[0;34m()\u001b[0m\n\u001b[1;32m     14\u001b[0m   \u001b[0mhead\u001b[0m\u001b[0;34m.\u001b[0m\u001b[0mnext\u001b[0m \u001b[0;34m=\u001b[0m\u001b[0msecond\u001b[0m\u001b[0;34m\u001b[0m\u001b[0;34m\u001b[0m\u001b[0m\n\u001b[1;32m     15\u001b[0m   \u001b[0msecond\u001b[0m\u001b[0;34m.\u001b[0m\u001b[0mnext\u001b[0m \u001b[0;34m=\u001b[0m \u001b[0mthird\u001b[0m\u001b[0;34m\u001b[0m\u001b[0;34m\u001b[0m\u001b[0m\n\u001b[0;32m---> 16\u001b[0;31m   \u001b[0mprint_linked_list\u001b[0m\u001b[0;34m(\u001b[0m\u001b[0mhead\u001b[0m\u001b[0;34m)\u001b[0m\u001b[0;34m\u001b[0m\u001b[0;34m\u001b[0m\u001b[0m\n\u001b[0m",
            "\u001b[0;32m/tmp/ipython-input-26-1815065720.py\u001b[0m in \u001b[0;36mprint_linked_list\u001b[0;34m(node)\u001b[0m\n\u001b[1;32m      6\u001b[0m \u001b[0;32mdef\u001b[0m \u001b[0mprint_linked_list\u001b[0m\u001b[0;34m(\u001b[0m\u001b[0mnode\u001b[0m\u001b[0;34m)\u001b[0m\u001b[0;34m:\u001b[0m\u001b[0;34m\u001b[0m\u001b[0;34m\u001b[0m\u001b[0m\n\u001b[1;32m      7\u001b[0m   \u001b[0;32mwhile\u001b[0m \u001b[0mnode\u001b[0m \u001b[0;32mis\u001b[0m \u001b[0;32mnot\u001b[0m \u001b[0;32mNone\u001b[0m\u001b[0;34m:\u001b[0m\u001b[0;34m\u001b[0m\u001b[0;34m\u001b[0m\u001b[0m\n\u001b[0;32m----> 8\u001b[0;31m     \u001b[0mprint\u001b[0m\u001b[0;34m(\u001b[0m\u001b[0mnode\u001b[0m\u001b[0;34m.\u001b[0m\u001b[0mdata\u001b[0m\u001b[0;34m,\u001b[0m \u001b[0mend\u001b[0m \u001b[0;34m=\u001b[0m \u001b[0;34m'->'\u001b[0m\u001b[0;34m)\u001b[0m\u001b[0;34m\u001b[0m\u001b[0;34m\u001b[0m\u001b[0m\n\u001b[0m\u001b[1;32m      9\u001b[0m     \u001b[0mnode\u001b[0m \u001b[0;34m=\u001b[0m \u001b[0mnode\u001b[0m\u001b[0;34m.\u001b[0m\u001b[0mnext\u001b[0m\u001b[0;34m\u001b[0m\u001b[0;34m\u001b[0m\u001b[0m\n\u001b[1;32m     10\u001b[0m \u001b[0;32mif\u001b[0m \u001b[0m__name__\u001b[0m \u001b[0;34m==\u001b[0m \u001b[0;34m\"__main__\"\u001b[0m\u001b[0;34m:\u001b[0m\u001b[0;34m\u001b[0m\u001b[0;34m\u001b[0m\u001b[0m\n",
            "\u001b[0;31mTypeError\u001b[0m: print() got an unexpected keyword argument 'end'"
          ]
        }
      ],
      "source": [
        "class Node:\n",
        "  def __init__(self, data):\n",
        "    self.data = data\n",
        "    self.next = None\n",
        "\n",
        "def print_linked_list(node):\n",
        "  while node is not None:\n",
        "    print(node.data, end = '->')\n",
        "    node = node.next\n",
        "if __name__ == \"__main__\":\n",
        "  head = Node(1)\n",
        "  second = Node(2)\n",
        "  third = Node(3)\n",
        "  head.next =second\n",
        "  second.next = third\n",
        "  print_linked_list(head)"
      ]
    },
    {
      "cell_type": "code",
      "source": [
        "def f(x):\n",
        "  if x % 2 == 0:\n",
        "    print(\"even number bkl\")\n",
        "    return\n",
        "f(3)"
      ],
      "metadata": {
        "id": "VUT15t2c_jjB"
      },
      "execution_count": 20,
      "outputs": []
    },
    {
      "cell_type": "code",
      "source": [
        "#using recursive apporach\n",
        "class Node:\n",
        "  def __init__(self, data):\n",
        "    self.data = data\n",
        "    self.next = None\n",
        "#upto this the beginning code of LInked list\n",
        "\n",
        "def traversal(head):\n",
        "    if head is  None :\n",
        "\n",
        "      print(None)\n",
        "      return\n",
        "    # else: return('bkl')\n",
        "\n",
        "    print(head.data, end = '->')\n",
        "    traversal(head.next)\n",
        "def main(): # don;t forgot to call the function after assigning the Nodes\n",
        "  # head = None\n",
        "  head = Node(1)\n",
        "  head.next = Node(2)\n",
        "  head.next.next = Node(3)\n",
        "  head.next.next.next = Node(4)\n",
        "  traversal(head)\n",
        "  # head = Node(1)\n",
        "  # head.next = Node(2)\n",
        "  # traversal(head)\n",
        "if __name__ == \"__main__\":\n",
        "  main()"
      ],
      "metadata": {
        "colab": {
          "base_uri": "https://localhost:8080/",
          "height": 321
        },
        "id": "iwEup3If5hHs",
        "outputId": "ab25d7c2-3f06-4fc8-868f-c97089119375"
      },
      "execution_count": 27,
      "outputs": [
        {
          "output_type": "error",
          "ename": "TypeError",
          "evalue": "print() got an unexpected keyword argument 'end'",
          "traceback": [
            "\u001b[0;31m---------------------------------------------------------------------------\u001b[0m",
            "\u001b[0;31mTypeError\u001b[0m                                 Traceback (most recent call last)",
            "\u001b[0;32m/tmp/ipython-input-27-1990227311.py\u001b[0m in \u001b[0;36m<cell line: 0>\u001b[0;34m()\u001b[0m\n\u001b[1;32m     26\u001b[0m   \u001b[0;31m# traversal(head)\u001b[0m\u001b[0;34m\u001b[0m\u001b[0;34m\u001b[0m\u001b[0m\n\u001b[1;32m     27\u001b[0m \u001b[0;32mif\u001b[0m \u001b[0m__name__\u001b[0m \u001b[0;34m==\u001b[0m \u001b[0;34m\"__main__\"\u001b[0m\u001b[0;34m:\u001b[0m\u001b[0;34m\u001b[0m\u001b[0;34m\u001b[0m\u001b[0m\n\u001b[0;32m---> 28\u001b[0;31m   \u001b[0mmain\u001b[0m\u001b[0;34m(\u001b[0m\u001b[0;34m)\u001b[0m\u001b[0;34m\u001b[0m\u001b[0;34m\u001b[0m\u001b[0m\n\u001b[0m",
            "\u001b[0;32m/tmp/ipython-input-27-1990227311.py\u001b[0m in \u001b[0;36mmain\u001b[0;34m()\u001b[0m\n\u001b[1;32m     21\u001b[0m   \u001b[0mhead\u001b[0m\u001b[0;34m.\u001b[0m\u001b[0mnext\u001b[0m\u001b[0;34m.\u001b[0m\u001b[0mnext\u001b[0m \u001b[0;34m=\u001b[0m \u001b[0mNode\u001b[0m\u001b[0;34m(\u001b[0m\u001b[0;36m3\u001b[0m\u001b[0;34m)\u001b[0m\u001b[0;34m\u001b[0m\u001b[0;34m\u001b[0m\u001b[0m\n\u001b[1;32m     22\u001b[0m   \u001b[0mhead\u001b[0m\u001b[0;34m.\u001b[0m\u001b[0mnext\u001b[0m\u001b[0;34m.\u001b[0m\u001b[0mnext\u001b[0m\u001b[0;34m.\u001b[0m\u001b[0mnext\u001b[0m \u001b[0;34m=\u001b[0m \u001b[0mNode\u001b[0m\u001b[0;34m(\u001b[0m\u001b[0;36m4\u001b[0m\u001b[0;34m)\u001b[0m\u001b[0;34m\u001b[0m\u001b[0;34m\u001b[0m\u001b[0m\n\u001b[0;32m---> 23\u001b[0;31m   \u001b[0mtraversal\u001b[0m\u001b[0;34m(\u001b[0m\u001b[0mhead\u001b[0m\u001b[0;34m)\u001b[0m\u001b[0;34m\u001b[0m\u001b[0;34m\u001b[0m\u001b[0m\n\u001b[0m\u001b[1;32m     24\u001b[0m   \u001b[0;31m# head = Node(1)\u001b[0m\u001b[0;34m\u001b[0m\u001b[0;34m\u001b[0m\u001b[0m\n\u001b[1;32m     25\u001b[0m   \u001b[0;31m# head.next = Node(2)\u001b[0m\u001b[0;34m\u001b[0m\u001b[0;34m\u001b[0m\u001b[0m\n",
            "\u001b[0;32m/tmp/ipython-input-27-1990227311.py\u001b[0m in \u001b[0;36mtraversal\u001b[0;34m(head)\u001b[0m\n\u001b[1;32m     13\u001b[0m     \u001b[0;31m# else: return('bkl')\u001b[0m\u001b[0;34m\u001b[0m\u001b[0;34m\u001b[0m\u001b[0m\n\u001b[1;32m     14\u001b[0m \u001b[0;34m\u001b[0m\u001b[0m\n\u001b[0;32m---> 15\u001b[0;31m     \u001b[0mprint\u001b[0m\u001b[0;34m(\u001b[0m\u001b[0mhead\u001b[0m\u001b[0;34m.\u001b[0m\u001b[0mdata\u001b[0m\u001b[0;34m,\u001b[0m \u001b[0mend\u001b[0m \u001b[0;34m=\u001b[0m \u001b[0;34m'->'\u001b[0m\u001b[0;34m)\u001b[0m\u001b[0;34m\u001b[0m\u001b[0;34m\u001b[0m\u001b[0m\n\u001b[0m\u001b[1;32m     16\u001b[0m     \u001b[0mtraversal\u001b[0m\u001b[0;34m(\u001b[0m\u001b[0mhead\u001b[0m\u001b[0;34m.\u001b[0m\u001b[0mnext\u001b[0m\u001b[0;34m)\u001b[0m\u001b[0;34m\u001b[0m\u001b[0;34m\u001b[0m\u001b[0m\n\u001b[1;32m     17\u001b[0m \u001b[0;32mdef\u001b[0m \u001b[0mmain\u001b[0m\u001b[0;34m(\u001b[0m\u001b[0;34m)\u001b[0m\u001b[0;34m:\u001b[0m \u001b[0;31m# don;t forgot to call the function after assigning the Nodes\u001b[0m\u001b[0;34m\u001b[0m\u001b[0;34m\u001b[0m\u001b[0m\n",
            "\u001b[0;31mTypeError\u001b[0m: print() got an unexpected keyword argument 'end'"
          ]
        }
      ]
    },
    {
      "cell_type": "code",
      "source": [
        "#circular linked list using iterative approach\n",
        "class Node: # Node class is needed for this cell to run independently\n",
        "    def __init__(self, data):\n",
        "        self.data = data\n",
        "        self.next = None\n",
        "\n",
        "def circular(head):\n",
        "  if head is None:\n",
        "    print(None)\n",
        "    return\n",
        "  temp = head # Start from the head\n",
        "  while True:\n",
        "    print(temp.data, end = '->')\n",
        "    temp = temp.next\n",
        "    if temp == head:\n",
        "      print(None) # Stop when we reach the head again\n",
        "      break\n",
        "  # Removed the extra print statement here\n",
        "\n",
        "def main(): # don;t forgot to call the function after assigning the Nodes\n",
        "  # head = None\n",
        "  head = Node(1)\n",
        "  head.next = Node(1)\n",
        "  head.next.next = Node(3)\n",
        "  head.next.next.next = Node(4)\n",
        "  head.next.next.next.next = head\n",
        "  circular(head) # Pass head as both arguments to start the traversal\n",
        "if __name__ == \"__main__\":\n",
        "  main()"
      ],
      "metadata": {
        "colab": {
          "base_uri": "https://localhost:8080/"
        },
        "id": "oZY14ZZIBw-Z",
        "outputId": "0042152b-44dc-4743-bb22-a5e27535604e"
      },
      "execution_count": 62,
      "outputs": [
        {
          "output_type": "stream",
          "name": "stdout",
          "text": [
            "1->1->3->4->None\n"
          ]
        }
      ]
    },
    {
      "cell_type": "code",
      "source": [
        "#circular linked list using recursive approach\n",
        "def print_LL(curr, head):\n",
        "  if head is None:\n",
        "    return\n",
        "  print(curr.data, end = \"->\")\n",
        "  if curr.next == head:\n",
        "    return\n",
        "  print(curr.next, head)\n",
        "\n",
        "if __name__ == \"__main__\":\n",
        "    head = Node(1)\n",
        "    head.next = Node(2)\n",
        "    head.next.next = Node(56)\n",
        "    head.next.next.next = Node(data=None)\n",
        "\n",
        "    head.next.next.next.next = head\n",
        "\n",
        "    print_list(head, head)"
      ],
      "metadata": {
        "colab": {
          "base_uri": "https://localhost:8080/"
        },
        "id": "W1R34IF5FxGG",
        "outputId": "61f6f7f1-1072-483d-cd45-75c82a61f398"
      },
      "execution_count": 60,
      "outputs": [
        {
          "output_type": "stream",
          "name": "stdout",
          "text": [
            "1 2 56 None "
          ]
        }
      ]
    },
    {
      "cell_type": "code",
      "source": [
        "#reverse the linked list\n",
        "def reversed_LL(head):\n",
        "  prev = None\n",
        "  current = head\n",
        "\n",
        "  while current:\n",
        "    next_node = current.next\n",
        "    current.next = prev\n",
        "    prev = current\n",
        "    current = next_node\n",
        "  return prev\n",
        "if __name__ == \"__main__\":\n",
        "\n",
        "  head = Node(1)\n",
        "  head.next = Node(2)\n",
        "  head.next.next = Node(56)\n",
        "  reversed_LL = reversed_LL(head)\n",
        "  current = reversed_LL\n",
        "  while current:\n",
        "    print(current.data, end = ',')\n",
        "    current =current.next\n",
        "  print(\"None\")"
      ],
      "metadata": {
        "colab": {
          "base_uri": "https://localhost:8080/"
        },
        "id": "hKXXWdukI-Us",
        "outputId": "d37a54c2-0326-4aeb-acf4-ca1aee8a5189"
      },
      "execution_count": 95,
      "outputs": [
        {
          "output_type": "stream",
          "name": "stdout",
          "text": [
            "56,2,1,None\n"
          ]
        }
      ]
    },
    {
      "cell_type": "code",
      "source": [
        "class node:\n",
        "  def __init__(self, data):\n",
        "    self.data = data\n",
        "    self.next = None\n",
        "#reversed LL using stack\n",
        "head = node(1)\n",
        "head.next = node(2)\n",
        "head.next.next = node(56)\n",
        "def reverse_ll(head):\n",
        "  stack = []\n",
        "  temp = head\n",
        "  while temp is not None:\n",
        "    stack.append(temp)\n",
        "    temp = temp.next\n",
        "\n",
        "  if not stack:\n",
        "      return None\n",
        "\n",
        "  head = stack.pop()\n",
        "  temp = head\n",
        "  while stack:\n",
        "    temp.next = stack.pop()\n",
        "    temp = temp.next\n",
        "\n",
        "  temp.next = None\n",
        "  return head\n",
        "\n",
        "def print_reversed_list(node):\n",
        "  output = \"\"\n",
        "  while node is not None:\n",
        "    output += str(node.data)\n",
        "    node = node.next\n",
        "    if node:\n",
        "      output += \"->\"\n",
        "  __builtins__.print(output + \"->None\")\n",
        "\n",
        "reversed_head = reverse_ll(head)\n",
        "print_reversed_list(reversed_head)"
      ],
      "metadata": {
        "colab": {
          "base_uri": "https://localhost:8080/"
        },
        "id": "7rNVP8TiYBvv",
        "outputId": "5ce2bd02-a149-48d1-f242-bbd517ab4396"
      },
      "execution_count": 25,
      "outputs": [
        {
          "output_type": "stream",
          "name": "stdout",
          "text": [
            "56->2->1->None\n"
          ]
        }
      ]
    },
    {
      "cell_type": "code",
      "source": [
        "#count the number of elements in LL\n",
        "def count(head):\n",
        "  count = 0\n",
        "  curr = head\n",
        "  while curr is not None:\n",
        "    count += 1\n",
        "    curr = curr.next\n",
        "  return count\n",
        "\n",
        "def count_recursive(head):\n",
        "  # count = 0\n",
        "  if head is None:\n",
        "    return 0\n",
        "  else :return(1+ count_recursive(head=head.next))\n",
        "if __name__ == \"__main__\":\n",
        "\n",
        "  head = Node(1)\n",
        "  head.next = Node(2)\n",
        "  head.next.next = Node(56)\n",
        "count(head)\n",
        "print(count_recursive(head))"
      ],
      "metadata": {
        "colab": {
          "base_uri": "https://localhost:8080/"
        },
        "id": "qv5G-NM7K9V-",
        "outputId": "f4ad5f01-24eb-415f-bb0e-4e3a34333092"
      },
      "execution_count": 92,
      "outputs": [
        {
          "output_type": "stream",
          "name": "stdout",
          "text": [
            "3\n"
          ]
        }
      ]
    }
  ]
}