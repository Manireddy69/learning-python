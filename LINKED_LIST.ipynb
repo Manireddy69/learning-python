{
  "cells": [
    {
      "cell_type": "markdown",
      "metadata": {
        "colab_type": "text",
        "id": "view-in-github"
      },
      "source": [
        "<a href=\"https://colab.research.google.com/github/Manireddy69/learning-python/blob/main/LINKED_LIST.ipynb\" target=\"_parent\"><img src=\"https://colab.research.google.com/assets/colab-badge.svg\" alt=\"Open In Colab\"/></a>"
      ]
    },
    {
      "cell_type": "code",
      "execution_count": null,
      "metadata": {
        "id": "-NTOU9jH5hgu"
      },
      "outputs": [],
      "source": []
    },
    {
      "cell_type": "code",
      "execution_count": null,
      "metadata": {
        "colab": {
          "base_uri": "https://localhost:8080/"
        },
        "id": "xvFaUvyzoXV1",
        "outputId": "20e0b247-7285-48ff-e727-3b6d2e535e69"
      },
      "outputs": [
        {
          "name": "stdout",
          "output_type": "stream",
          "text": [
            "1->2->3->"
          ]
        }
      ],
      "source": [
        "class Node:\n",
        "  def __init__(self, data):\n",
        "    self.data = data\n",
        "    self.next = None\n",
        "\n",
        "def print_linked_list(node):\n",
        "  while node is not None:\n",
        "    print(node.data, end = '->')\n",
        "    node = node.next\n",
        "if __name__ == \"__main__\":\n",
        "  head = Node(1)\n",
        "  second = Node(2)\n",
        "  third = Node(3)\n",
        "  head.next =second\n",
        "  second.next = third\n",
        "  print_linked_list(head)"
      ]
    },
    {
      "cell_type": "code",
      "execution_count": null,
      "metadata": {
        "id": "VUT15t2c_jjB"
      },
      "outputs": [],
      "source": [
        "def f(x):\n",
        "  if x % 2 == 0:\n",
        "    print(\"even number bkl\")\n",
        "    return\n",
        "f(3)"
      ]
    },
    {
      "cell_type": "code",
      "execution_count": null,
      "metadata": {
        "colab": {
          "base_uri": "https://localhost:8080/"
        },
        "id": "iwEup3If5hHs",
        "outputId": "65f8381a-abc7-4762-bfd2-2f0d1885635e"
      },
      "outputs": [
        {
          "name": "stdout",
          "output_type": "stream",
          "text": [
            "1->2->3->4->None\n"
          ]
        }
      ],
      "source": [
        "#using recursive apporach\n",
        "class Node:\n",
        "  def __init__(self, data):\n",
        "    self.data = data\n",
        "    self.next = None\n",
        "#upto this the beginning code of LInked list\n",
        "\n",
        "def traversal(head):\n",
        "    if head is  None :\n",
        "\n",
        "      print(None)\n",
        "      return\n",
        "    # else: return('bkl')\n",
        "\n",
        "    print(head.data, end = '->')\n",
        "    traversal(head.next)\n",
        "def main(): # don;t forgot to call the function after assigning the Nodes\n",
        "  # head = None\n",
        "  head = Node(1)\n",
        "  head.next = Node(2)\n",
        "  head.next.next = Node(3)\n",
        "  head.next.next.next = Node(4)\n",
        "  traversal(head)\n",
        "  # head = Node(1)\n",
        "  # head.next = Node(2)\n",
        "  # traversal(head)\n",
        "if __name__ == \"__main__\":\n",
        "  main()"
      ]
    },
    {
      "cell_type": "code",
      "execution_count": null,
      "metadata": {
        "colab": {
          "base_uri": "https://localhost:8080/"
        },
        "id": "oZY14ZZIBw-Z",
        "outputId": "bad965c9-29a2-4c9f-8d31-77cf1ad2d309"
      },
      "outputs": [
        {
          "name": "stdout",
          "output_type": "stream",
          "text": [
            "1->1->3->4->None\n"
          ]
        }
      ],
      "source": [
        "#circular linked list using iterative approach\n",
        "class Node: # Node class is needed for this cell to run independently\n",
        "    def __init__(self, data):\n",
        "        self.data = data\n",
        "        self.next = None\n",
        "\n",
        "def circular(head):\n",
        "  if head is None:\n",
        "    print(None)\n",
        "    return\n",
        "  temp = head # Start from the head\n",
        "  while True:\n",
        "    print(temp.data, end = '->')\n",
        "    temp = temp.next\n",
        "    if temp == head:\n",
        "      print(None) # Stop when we reach the head again\n",
        "      break\n",
        "  # Removed the extra print statement here\n",
        "\n",
        "def main(): # don;t forgot to call the function after assigning the Nodes\n",
        "  # head = None\n",
        "  head = Node(1)\n",
        "  head.next = Node(1)\n",
        "  head.next.next = Node(3)\n",
        "  head.next.next.next = Node(4)\n",
        "  head.next.next.next.next = head\n",
        "  circular(head) # Pass head as both arguments to start the traversal\n",
        "if __name__ == \"__main__\":\n",
        "  main()"
      ]
    },
    {
      "cell_type": "code",
      "execution_count": null,
      "metadata": {
        "colab": {
          "base_uri": "https://localhost:8080/"
        },
        "id": "W1R34IF5FxGG",
        "outputId": "45914cc1-3c5b-4d4a-8430-8ccf84012285"
      },
      "outputs": [
        {
          "name": "stdout",
          "output_type": "stream",
          "text": [
            "1->2->56->4->"
          ]
        }
      ],
      "source": [
        "#circular linked list using recursive approach\n",
        "def print_LL(curr, head):\n",
        "  if head is None:\n",
        "    return\n",
        "  print(curr.data, end = \"->\")\n",
        "  if curr.next == head:\n",
        "    return\n",
        "  # Print the data of the next node and the head node's data\n",
        "  print_LL(curr.next, head)\n",
        "\n",
        "if __name__ == \"__main__\":\n",
        "    class Node: # Define Node class here to make this cell runnable independently\n",
        "        def __init__(self, data):\n",
        "            self.data = data\n",
        "            self.next = None\n",
        "\n",
        "    head = Node(1)\n",
        "    head.next = Node(2)\n",
        "    head.next.next = Node(56)\n",
        "    head.next.next.next = Node(4) # Changed data=None to 4 for better demonstration\n",
        "\n",
        "    head.next.next.next.next = head\n",
        "\n",
        "    print_LL(head, head)"
      ]
    },
    {
      "cell_type": "code",
      "execution_count": null,
      "metadata": {
        "colab": {
          "base_uri": "https://localhost:8080/"
        },
        "id": "hKXXWdukI-Us",
        "outputId": "c3cf33ee-2576-4ec4-d520-0e6e67b27a84"
      },
      "outputs": [
        {
          "name": "stdout",
          "output_type": "stream",
          "text": [
            "56,2,1,None\n"
          ]
        }
      ],
      "source": [
        "#reverse the linked list\n",
        "def reversed_LL(head):\n",
        "  prev = None\n",
        "  current = head\n",
        "\n",
        "  while current:\n",
        "    next_node = current.next\n",
        "    current.next = prev\n",
        "    prev = current\n",
        "    current = next_node\n",
        "  return prev\n",
        "if __name__ == \"__main__\":\n",
        "\n",
        "  head = Node(1)\n",
        "  head.next = Node(2)\n",
        "  head.next.next = Node(56)\n",
        "  reversed_LL = reversed_LL(head)\n",
        "  current = reversed_LL\n",
        "  while current:\n",
        "    print(current.data, end = ',')\n",
        "    current =current.next\n",
        "  print(\"None\")"
      ]
    },
    {
      "cell_type": "code",
      "execution_count": null,
      "metadata": {
        "colab": {
          "base_uri": "https://localhost:8080/"
        },
        "id": "7rNVP8TiYBvv",
        "outputId": "eb7d249c-b678-464f-f4a0-a1f24ae6c6f9"
      },
      "outputs": [
        {
          "name": "stdout",
          "output_type": "stream",
          "text": [
            "56->2->1->None\n"
          ]
        }
      ],
      "source": [
        "#reversed LL using stack\n",
        "class node:\n",
        "  def __init__(self, data):\n",
        "    self.data = data\n",
        "    self.next = None\n",
        "\n",
        "head = node(1)\n",
        "head.next = node(2)\n",
        "head.next.next = node(56)\n",
        "def rev_LL(head):\n",
        "  stack = []\n",
        "  temp = head\n",
        "  while temp is not None:\n",
        "    stack.append(temp)\n",
        "    temp = temp.next\n",
        "\n",
        "  new_head = stack.pop() # The last node in the stack becomes the new head\n",
        "  temp = new_head\n",
        "  while stack:\n",
        "    temp.next = stack.pop()\n",
        "    temp = temp.next\n",
        "\n",
        "  temp.next = None # The last node in the reversed list should point to None\n",
        "  return new_head # Return the new head of the reversed list\n",
        "\n",
        "def print_LL(head):\n",
        "  while head is not None:\n",
        "    print(head.data, end = '->')\n",
        "    head= head.next\n",
        "  print(\"None\") # Print None at the end of the list\n",
        "# print_LL(head) # Removed this line to avoid printing the original list\n",
        "\n",
        "head = rev_LL(head)\n",
        "print_LL(head) # Print the reversed list"
      ]
    },
    {
      "cell_type": "code",
      "execution_count": null,
      "metadata": {
        "colab": {
          "base_uri": "https://localhost:8080/"
        },
        "id": "aqcgje-tNQzE",
        "outputId": "b9f2c136-023a-4c0f-e4dc-d5dfb4448cc3"
      },
      "outputs": [
        {
          "data": {
            "text/plain": [
              "4"
            ]
          },
          "execution_count": 6,
          "metadata": {},
          "output_type": "execute_result"
        }
      ],
      "source": [
        "class Node:\n",
        "  def __init__(self, data):\n",
        "    self.data = data\n",
        "    self.next = None\n",
        "head = Node(1)\n",
        "head.next = Node(2)\n",
        "head.next.next = Node(3)\n",
        "head.next.next.next = Node(4)\n",
        "\n",
        "def cout(head):\n",
        "  count = 0\n",
        "  curr = head\n",
        "  while curr is not None: # Changed condition to check curr instead of head\n",
        "    count += 1\n",
        "    curr = curr.next\n",
        "  return count\n",
        "cout(head)\n",
        "\n",
        "def count(head): # counting elements using iterative approach\n",
        "  if head is None:\n",
        "    return 0 # don't forget to assing 0 because 1 + None is error for last iteration\n",
        "  return (1 + count(head.next))\n",
        "count(head)\n"
      ]
    },
    {
      "cell_type": "code",
      "execution_count": null,
      "metadata": {
        "id": "DciqEiBS9acj"
      },
      "outputs": [],
      "source": []
    },
    {
      "cell_type": "code",
      "execution_count": null,
      "metadata": {
        "colab": {
          "base_uri": "https://localhost:8080/"
        },
        "id": "qv5G-NM7K9V-",
        "outputId": "04261ef1-3743-41a9-bad6-de377ff0c811"
      },
      "outputs": [
        {
          "name": "stdout",
          "output_type": "stream",
          "text": [
            "3\n"
          ]
        }
      ],
      "source": [
        "#count the number of elements in LL\n",
        "def count(head):\n",
        "  count = 0\n",
        "  curr = head\n",
        "  while curr is not None:\n",
        "    count += 1\n",
        "    curr = curr.next\n",
        "  return count\n",
        "\n",
        "def count_recursive(head):\n",
        "  # count = 0\n",
        "  if head is None:\n",
        "    return 0\n",
        "  else :return(1+ count_recursive(head=head.next))\n",
        "if __name__ == \"__main__\":\n",
        "\n",
        "  head = Node(1)\n",
        "  head.next = Node(2)\n",
        "  head.next.next = Node(56)\n",
        "count(head)\n",
        "print(count(head))"
      ]
    },
    {
      "cell_type": "code",
      "execution_count": null,
      "metadata": {
        "colab": {
          "base_uri": "https://localhost:8080/"
        },
        "id": "FawVXTJr9bE5",
        "outputId": "4f9b6b10-8d96-47f8-eee8-f0921ce7cca4"
      },
      "outputs": [
        {
          "name": "stdout",
          "output_type": "stream",
          "text": [
            "9->4->5->None\n"
          ]
        }
      ],
      "source": [
        "class Node:\n",
        "  def __init__(self, data):\n",
        "    self.data = data\n",
        "    self.next = None\n",
        "head = Node(6)\n",
        "head.next = Node(9)\n",
        "head.next.next = Node(4)\n",
        "head.next.next.next = Node(5)\n",
        "def del_1(head):\n",
        "  if head is None:\n",
        "    return None\n",
        "  temp = head #store the first element\n",
        "  head   = head.next # make new pointer at next head\n",
        "  del temp #nikaldo bkl ko\n",
        "  return head\n",
        "head  = del_1(head)\n",
        "print_LL(head)"
      ]
    },
    {
      "cell_type": "code",
      "execution_count": null,
      "metadata": {
        "colab": {
          "base_uri": "https://localhost:8080/"
        },
        "id": "W7AtpOfoot_j",
        "outputId": "f4da9a0f-c391-48e5-8263-b7adfdab077c"
      },
      "outputs": [
        {
          "name": "stdout",
          "output_type": "stream",
          "text": [
            "1->2->3->None\n"
          ]
        }
      ],
      "source": [
        "class Node:\n",
        "  def __init__(self, data):\n",
        "    self.data = data\n",
        "    self.next = None\n",
        "head = Node(1)\n",
        "head.next = Node(2)\n",
        "head.next.next = Node(3)\n",
        "head.next.next.next = Node(4)\n",
        "\n",
        "def del_last_element(head):\n",
        "  if not head:\n",
        "    return None\n",
        "\n",
        "  if not head.next:\n",
        "    return None\n",
        "  current = head\n",
        "  while current.next.next:\n",
        "    current = current.next\n",
        "\n",
        "  current.next = None\n",
        "  return head\n",
        "# head = print_LL(head)\n",
        "def print_ll(head):\n",
        "  while head:\n",
        "    print(head.data, end = '->')\n",
        "    head = head.next\n",
        "  print(None)\n",
        "\n",
        "\n",
        "\n",
        "head = del_last_element(head)\n",
        "print_ll(head)"
      ]
    },
    {
      "cell_type": "code",
      "execution_count": null,
      "metadata": {
        "colab": {
          "base_uri": "https://localhost:8080/"
        },
        "id": "b46ea8ed",
        "outputId": "28e0a5c7-c3db-47d6-ba2c-367bf8ffcdfb"
      },
      "outputs": [
        {
          "name": "stdout",
          "output_type": "stream",
          "text": [
            "2->69->45->18->None\n"
          ]
        },
        {
          "data": {
            "text/plain": [
              "('The number', 18, 'is in LL')"
            ]
          },
          "execution_count": 7,
          "metadata": {},
          "output_type": "execute_result"
        }
      ],
      "source": [
        "#searching an element in LL\n",
        "class Node:\n",
        "  def __init__(self, data):\n",
        "    self.data = data\n",
        "    self.next = None\n",
        "head = Node(2)\n",
        "head.next = Node(69)\n",
        "head.next.next = Node(45)\n",
        "head.next.next.next = Node(18)\n",
        "\n",
        "def search_LL(head, key):\n",
        "  curr = head\n",
        "  while curr is not None:\n",
        "    if curr.data == key:\n",
        "      return(\"The number\" ,key,\"is in LL\")\n",
        "    curr = curr.next\n",
        "  return (\"The number\", key, \"Not in LL\")\n",
        "# print(search_LL(head, 69))\n",
        "\n",
        "def print_LL(head):\n",
        "  while head is not None:\n",
        "    print(head.data, end = '->')\n",
        "    head = head.next\n",
        "  print(None)\n",
        "\n",
        "print_LL(head)\n",
        "search_LL(head, 18)"
      ]
    },
    {
      "cell_type": "code",
      "execution_count": null,
      "metadata": {
        "colab": {
          "base_uri": "https://localhost:8080/",
          "height": 176
        },
        "id": "mb4ZOFBW5Tlk",
        "outputId": "74a8ddbb-a597-4eb3-dd86-ae8013b2f41a"
      },
      "outputs": [
        {
          "ename": "NameError",
          "evalue": "name 'print_LL' is not defined",
          "output_type": "error",
          "traceback": [
            "\u001b[0;31m---------------------------------------------------------------------------\u001b[0m",
            "\u001b[0;31mNameError\u001b[0m                                 Traceback (most recent call last)",
            "\u001b[0;32m/tmp/ipython-input-1284486407.py\u001b[0m in \u001b[0;36m<cell line: 0>\u001b[0;34m()\u001b[0m\n\u001b[1;32m     34\u001b[0m \u001b[0;34m\u001b[0m\u001b[0m\n\u001b[1;32m     35\u001b[0m \u001b[0;31m# Assuming print_LL is defined in another cell (like 7rNVP8TiYBvv)\u001b[0m\u001b[0;34m\u001b[0m\u001b[0;34m\u001b[0m\u001b[0m\n\u001b[0;32m---> 36\u001b[0;31m \u001b[0mprint_LL\u001b[0m\u001b[0;34m(\u001b[0m\u001b[0mhead\u001b[0m\u001b[0;34m)\u001b[0m\u001b[0;34m\u001b[0m\u001b[0;34m\u001b[0m\u001b[0m\n\u001b[0m",
            "\u001b[0;31mNameError\u001b[0m: name 'print_LL' is not defined"
          ]
        }
      ],
      "source": [
        "class Node:\n",
        "  def __init__(self, data):\n",
        "    self.data = data\n",
        "    self.next = None\n",
        "\n",
        "def insert(head, pos, element):\n",
        "  if pos < 1:\n",
        "    return head\n",
        "  new_node = Node(element)\n",
        "  if pos == 1:\n",
        "    new_node.next = head\n",
        "    return new_node\n",
        "  curr = head\n",
        "  for i in range(1, pos - 1):\n",
        "    if curr is None:\n",
        "      return head # Handle case where position is out of bounds\n",
        "    curr = curr.next\n",
        "  if curr is None:\n",
        "    return head # Handle case where position is out of bounds\n",
        "\n",
        "  new_node.next = curr.next\n",
        "  curr.next = new_node\n",
        "  return head\n",
        "\n",
        "# Re-initialize the linked list before inserting to demonstrate a single insertion per cell execution\n",
        "head = Node(2)\n",
        "head.next = Node(69)\n",
        "head.next.next = Node(45)\n",
        "head.next.next.next = Node(18)\n",
        "\n",
        "head = insert(head=head, pos=3, element=3)\n",
        "\n",
        "# Removed the duplicate print_ll function definition here and will use the one from cell 7rNVP8TiYBvv\n",
        "\n",
        "# Assuming print_LL is defined in another cell (like 7rNVP8TiYBvv)\n",
        "print_LL(head)"
      ]
    },
    {
      "cell_type": "code",
      "execution_count": null,
      "metadata": {
        "colab": {
          "base_uri": "https://localhost:8080/"
        },
        "id": "5UUkr2b9Jjat",
        "outputId": "819a4a94-ec01-45bc-f7ad-963812a77514"
      },
      "outputs": [
        {
          "name": "stdout",
          "output_type": "stream",
          "text": [
            "2->69->45->18->5->None\n"
          ]
        }
      ],
      "source": [
        "# add element to the last in LL\n",
        "def append(head, element):\n",
        "  if head is None:\n",
        "    return False\n",
        "  new_node = Node(element)\n",
        "  last = head\n",
        "\n",
        "  while last.next:\n",
        "    last =last.next\n",
        "\n",
        "  last.next = new_node\n",
        "  return head\n",
        "head = Node(2)\n",
        "head.next = Node(69)\n",
        "head.next.next = Node(45)\n",
        "head.next.next.next = Node(18)\n",
        "append(head, 5)\n",
        "print_LL(head)"
      ]
    },
    {
      "cell_type": "code",
      "execution_count": null,
      "metadata": {
        "colab": {
          "base_uri": "https://localhost:8080/"
        },
        "id": "rH9KOBOj7D1m",
        "outputId": "53f9d721-c0e1-4fbb-f82c-d80b2f0b9c83"
      },
      "outputs": [
        {
          "name": "stdout",
          "output_type": "stream",
          "text": [
            "[7, 0, 8]\n",
            "[0]\n",
            "[8, 9, 9, 9, 0, 0, 0, 1]\n"
          ]
        }
      ],
      "source": [
        "#leetcode LL definition\n",
        "class ListNode(object):\n",
        "    def __init__(self, val=0, next=None):\n",
        "        self.val = val\n",
        "        self.next = next\n",
        "\n",
        "class Solution(object):\n",
        "    def addTwoNumbers(self, l1, l2):\n",
        "      # Convert lists to integers\n",
        "      num1 = int(\"\".join(map(str, l1[::-1])))\n",
        "      num2 = int(\"\".join(map(str, l2[::-1])))\n",
        "\n",
        "      # Add the integers\n",
        "      total = num1 + num2\n",
        "\n",
        "      # Convert the sum back to a list in reversed order\n",
        "      result = [int(digit) for digit in str(total)][::-1]\n",
        "      return result\n",
        "\n",
        "# Example usage (assuming Node class is defined elsewhere or in a previous cell)\n",
        "# If Node class is not defined, you'll need to define it here or in a separate cell\n",
        "# class Node:\n",
        "#   def __init__(self, data):\n",
        "#     self.data = data\n",
        "#     self.next = None\n",
        "\n",
        "# Create sample lists (representing numbers in reverse order)\n",
        "l1 = [2, 4, 3] # Represents 342\n",
        "l2 = [5, 6, 4] # Represents 465\n",
        "\n",
        "solution = Solution()\n",
        "result_list = solution.addTwoNumbers(l1, l2)\n",
        "print(result_list) # Expected output: [7, 0, 8] (representing 807)\n",
        "\n",
        "l1 = [0]\n",
        "l2 = [0]\n",
        "result_list = solution.addTwoNumbers(l1, l2)\n",
        "print(result_list) # Expected output: [0]\n",
        "\n",
        "l1 = [9,9,9,9,9,9,9]\n",
        "l2 = [9,9,9,9]\n",
        "result_list = solution.addTwoNumbers(l1, l2)\n",
        "print(result_list) # Expected output: [8,9,9,9,0,0,0,1]"
      ]
    },
    {
      "cell_type": "code",
      "execution_count": null,
      "metadata": {
        "colab": {
          "base_uri": "https://localhost:8080/"
        },
        "id": "srUalUWMA_9C",
        "outputId": "23880fb8-4f85-499a-ea58-81e6679f162c"
      },
      "outputs": [
        {
          "name": "stdout",
          "output_type": "stream",
          "text": [
            "8\n"
          ]
        }
      ],
      "source": [
        "#to find element using index\n",
        "class Node:\n",
        "  def __init__(self, data):\n",
        "    self.data = data\n",
        "    self.next = None\n",
        "head = Node(6)\n",
        "head.next = Node(3)\n",
        "head.next.next = Node(8)\n",
        "head.next.next.next = Node(9)\n",
        "\n",
        "def f(head, index):\n",
        "  if head is None:\n",
        "    return -1\n",
        "  if index == 0 :\n",
        "    print(head.data)\n",
        "  if index == 1:\n",
        "    print(head.next.data)\n",
        "  else:\n",
        "    f(head.next, index -1)\n",
        "\n",
        "\n",
        "f(head, 2)"
      ]
    },
    {
      "cell_type": "code",
      "execution_count": null,
      "metadata": {
        "colab": {
          "base_uri": "https://localhost:8080/"
        },
        "id": "dQnksTcyBGTf",
        "outputId": "02f00b37-80eb-4ff4-ea43-f939a1b6323f"
      },
      "outputs": [
        {
          "name": "stdout",
          "output_type": "stream",
          "text": [
            "8\n"
          ]
        }
      ],
      "source": [
        "#using iterative approach\n",
        "\n",
        "def f_i(head, index):\n",
        "  curr = head\n",
        "  count = 1\n",
        "  while curr is not None:\n",
        "    if count == index :\n",
        "      print(curr.data)\n",
        "    else:\n",
        "      return('index out of range')\n",
        "f(head, 2)"
      ]
    },
    {
      "cell_type": "code",
      "execution_count": 4,
      "metadata": {
        "colab": {
          "base_uri": "https://localhost:8080/",
          "height": 332
        },
        "id": "iHcAh4MgGOdz",
        "outputId": "d6352232-01fa-4f27-ee1d-12624f6aa152"
      },
      "outputs": [
        {
          "name": "stdout",
          "output_type": "stream",
          "text": [
            "2 3 4 "
          ]
        }
      ],
      "source": [
        "#to find the length of doubly linked list\n",
        "class Node:\n",
        "  def __init__(self,data):\n",
        "    self.data= data\n",
        "    self.next = None\n",
        "    self.prev = None\n",
        "\n",
        "def L(curr):\n",
        "  size = 0\n",
        "  while curr:\n",
        "    size += 1\n",
        "    curr= curr.next\n",
        "  return size\n",
        "head = Node(2)\n",
        "head.next= Node(3)\n",
        "head.next.next = Node(4)\n",
        "\n",
        "L(head)\n",
        "def f(head):\n",
        "  curr = head\n",
        "  while curr is not None:\n",
        "    print(curr.data, end = ' ')\n",
        "    curr =curr.next\n",
        "\n",
        "f(head)\n",
        "\n",
        "\n"
      ]
    },
    {
      "cell_type": "code",
      "execution_count": null,
      "metadata": {
        "id": "0clJvJI1j4gs"
      },
      "outputs": [],
      "source": []
    }
  ],
  "metadata": {
    "colab": {
      "include_colab_link": true,
      "provenance": []
    },
    "kernelspec": {
      "display_name": "Python 3",
      "name": "python3"
    },
    "language_info": {
      "codemirror_mode": {
        "name": "ipython",
        "version": 3
      },
      "file_extension": ".py",
      "mimetype": "text/x-python",
      "name": "python",
      "nbconvert_exporter": "python",
      "pygments_lexer": "ipython3",
      "version": "3.13.5"
    }
  },
  "nbformat": 4,
  "nbformat_minor": 0
}
