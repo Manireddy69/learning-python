{
  "nbformat": 4,
  "nbformat_minor": 0,
  "metadata": {
    "colab": {
      "provenance": [],
      "authorship_tag": "ABX9TyMLZDNPqpPSwOI9e2tE4/5u",
      "include_colab_link": true
    },
    "kernelspec": {
      "name": "python3",
      "display_name": "Python 3"
    },
    "language_info": {
      "name": "python"
    }
  },
  "cells": [
    {
      "cell_type": "markdown",
      "metadata": {
        "id": "view-in-github",
        "colab_type": "text"
      },
      "source": [
        "<a href=\"https://colab.research.google.com/github/Manireddy69/learning-python/blob/main/Trees.ipynb\" target=\"_parent\"><img src=\"https://colab.research.google.com/assets/colab-badge.svg\" alt=\"Open In Colab\"/></a>"
      ]
    },
    {
      "cell_type": "code",
      "execution_count": 1,
      "metadata": {
        "colab": {
          "base_uri": "https://localhost:8080/"
        },
        "id": "KmBTRpC7lliu",
        "outputId": "560efb35-8efe-4df2-ebf0-dc21fa3b8aa1"
      },
      "outputs": [
        {
          "output_type": "stream",
          "name": "stdout",
          "text": [
            "2 4 4 4 5 5 7 21 "
          ]
        }
      ],
      "source": [
        "from logging import RootLogger\n",
        "class Node:\n",
        "  def __init__(self, data):\n",
        "    self.data= data\n",
        "    self.left = None\n",
        "    self.right = None\n",
        "\n",
        "def insert(root, key):\n",
        "  if root is None:\n",
        "    return Node(key)\n",
        "\n",
        "  if key < root.data:\n",
        "    root.left = insert(root.left, key)\n",
        "  else:\n",
        "    root.right = insert(root.right , key)\n",
        "\n",
        "  return root\n",
        "\n",
        "def inorder(root):\n",
        "  if root:\n",
        "    inorder(root.left)\n",
        "    print(root.data, end = \" \")\n",
        "    inorder(root.right)\n",
        "root = None\n",
        "\n",
        "for x in [4,21,4,5,7,2,4,5]:\n",
        "  root = insert(root, x)\n",
        "inorder(root)\n"
      ]
    }
  ]
}