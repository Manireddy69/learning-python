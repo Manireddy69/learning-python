{
  "nbformat": 4,
  "nbformat_minor": 0,
  "metadata": {
    "colab": {
      "provenance": [],
      "include_colab_link": true
    },
    "kernelspec": {
      "name": "python3",
      "display_name": "Python 3"
    },
    "language_info": {
      "name": "python"
    }
  },
  "cells": [
    {
      "cell_type": "markdown",
      "metadata": {
        "id": "view-in-github",
        "colab_type": "text"
      },
      "source": [
        "<a href=\"https://colab.research.google.com/github/Manireddy69/learning-python/blob/main/sorting.ipynb\" target=\"_parent\"><img src=\"https://colab.research.google.com/assets/colab-badge.svg\" alt=\"Open In Colab\"/></a>"
      ]
    },
    {
      "cell_type": "code",
      "execution_count": null,
      "metadata": {
        "colab": {
          "base_uri": "https://localhost:8080/"
        },
        "id": "F80o42EMNfvH",
        "outputId": "4c0ea076-8eb9-4810-ae86-d5dbca5824d8"
      },
      "outputs": [
        {
          "output_type": "stream",
          "name": "stdout",
          "text": [
            "The orginal array: [6, 5, 4, 3, 2, 1]\n",
            "The elments after 1 iteration [5, 4, 3, 2, 1, 6]\n",
            "The elments after 2 iteration [4, 3, 2, 1, 5, 6]\n",
            "The elments after 3 iteration [3, 2, 1, 4, 5, 6]\n",
            "The elments after 4 iteration [2, 1, 3, 4, 5, 6]\n",
            "The elments after 5 iteration [1, 2, 3, 4, 5, 6]\n"
          ]
        }
      ],
      "source": [
        "#bubble sort\n",
        "#AIM : to bring largest element to it's position.\n",
        "array = [6,5,4,3,2,1]\n",
        "n = len(array)\n",
        "print(\"The orginal array:\", array)\n",
        "for j in range(n-1): #outer loop is for iteration\n",
        "  flag = False\n",
        "  for i in range(n-1-j): # AIM of the algorithm\n",
        "    #works without (-j) but take compares with sorted elements\n",
        "    flag = True\n",
        "    if array[i] > array[i+1]:\n",
        "      array[i+1], array[i] = array[i], array[i+1]\n",
        "  print(\"The elments after\",j+1, \"iteration\", array)\n",
        "  if flag == False:\n",
        "    break\n",
        "    print(array)\n"
      ]
    },
    {
      "cell_type": "code",
      "source": [],
      "metadata": {
        "id": "QCuTwggH8W0i"
      },
      "execution_count": null,
      "outputs": []
    },
    {
      "cell_type": "code",
      "source": [
        "#selection sort\n",
        "#AIM : to  bring smallest element to it's position\n",
        "arr = [9,7,6,5,4]\n",
        "\n",
        "min_element = arr[0]\n",
        "min_index = 0\n",
        "n = len(arr)\n",
        "print(\"the orginal array:\", arr)\n",
        "for j in range(n-1):\n",
        "  min_index = j\n",
        "  min_element = arr[j]\n",
        "  for i in range(j+1,n):\n",
        "    if arr[i] < min_element:\n",
        "      min_element = arr[i]\n",
        "      min_index = i\n",
        "  # print(min_element, min_index)\n",
        "\n",
        "  arr[j], arr[min_index] = arr[min_index], arr[j]\n",
        "  print(\"The array after\",j+1,\"itration\", arr)"
      ],
      "metadata": {
        "colab": {
          "base_uri": "https://localhost:8080/"
        },
        "id": "Kf8aPoGJWHKS",
        "outputId": "b692ba3b-eba8-45a5-a34d-6407d7f0dfa6"
      },
      "execution_count": null,
      "outputs": [
        {
          "output_type": "stream",
          "name": "stdout",
          "text": [
            "the orginal array: [9, 7, 6, 5, 4]\n",
            "The array after 1 itration [4, 7, 6, 5, 9]\n",
            "The array after 2 itration [4, 5, 6, 7, 9]\n",
            "The array after 3 itration [4, 5, 6, 7, 9]\n",
            "The array after 4 itration [4, 5, 6, 7, 9]\n"
          ]
        }
      ]
    },
    {
      "cell_type": "code",
      "source": [
        "#insertion sort\n",
        "array = [6,3,5,4,2]\n",
        "j = 0\n",
        "n = len(array) #5\n",
        "for i in range(n-1): #i = 4\n",
        "  j = i\n",
        "  while array[j] > array[j+1] and j >= 0:\n",
        "    array[j] , array[j+1] = array[j+1], array[j]\n",
        "    j = j-1\n",
        "print(array)"
      ],
      "metadata": {
        "colab": {
          "base_uri": "https://localhost:8080/"
        },
        "id": "dM5qAYQy8XoS",
        "outputId": "f729f6b1-3422-4fe4-b99b-61abad011f45"
      },
      "execution_count": null,
      "outputs": [
        {
          "output_type": "stream",
          "name": "stdout",
          "text": [
            "[2, 3, 4, 5, 6]\n"
          ]
        }
      ]
    },
    {
      "cell_type": "code",
      "source": [
        "#insertion sort\n",
        "array = [6,3,5,4,2]\n",
        "j = 0\n",
        "n = len(array)\n",
        "for i in range(n-1):\n",
        "  j = i\n",
        "  while array[j] > array[j+1] and j>=  0:\n",
        "    array[j] , array[j+1] = array[j+1], array[j]\n",
        "    j = j-1 #in between the iteration j becomes 1 (ex: after 2 iteration) it compares the insdie the elements and swaps if necessary\n",
        "  print(\"The array after\", i+1, \"iteration:\", array)\n",
        "print(\"The sorted array after insertion sort:\",array)"
      ],
      "metadata": {
        "colab": {
          "base_uri": "https://localhost:8080/"
        },
        "id": "dmjPB9JiLbzS",
        "outputId": "1ea8d069-4f81-42f6-ba4f-9a7b972d04a8"
      },
      "execution_count": null,
      "outputs": [
        {
          "output_type": "stream",
          "name": "stdout",
          "text": [
            "The array after 1 iteration: [3, 6, 5, 4, 2]\n",
            "The array after 2 iteration: [3, 5, 6, 4, 2]\n",
            "The array after 3 iteration: [3, 4, 5, 6, 2]\n",
            "The array after 4 iteration: [2, 3, 4, 5, 6]\n",
            "The sorted array after insertion sort: [2, 3, 4, 5, 6]\n"
          ]
        }
      ]
    },
    {
      "cell_type": "code",
      "source": [
        "#Quick sort\n",
        "def partition(arr, start, end):\n",
        "  pivot = arr[start]\n",
        "  low = start +1\n",
        "  high = end\n",
        "  while low <= high :\n",
        "    #find first element than pivot from left\n",
        "    while arr[low] <= pivot and low<= high:\n",
        "      low = low+ 1\n",
        "    #find first element smaller than pivot from right\n",
        "    while arr[high] >= pivot and low <= high:\n",
        "      high = high -1\n",
        "    if low <= high:\n",
        "      arr[low], arr[high] = arr[low], arr[high]\n",
        "      low = low +1\n",
        "      high = high -1\n",
        "\n",
        "\n",
        "\n",
        "\n",
        "def quick_sort(arr, start, end):\n",
        "  partition(arr, start, end)\n",
        "\n"
      ],
      "metadata": {
        "colab": {
          "base_uri": "https://localhost:8080/",
          "height": 110
        },
        "id": "mDTew-vMMEZx",
        "outputId": "a854c4a6-4a54-4ede-f49c-2f45661bca66"
      },
      "execution_count": null,
      "outputs": [
        {
          "output_type": "error",
          "ename": "SyntaxError",
          "evalue": "incomplete input (ipython-input-3-2446131551.py, line 7)",
          "traceback": [
            "\u001b[0;36m  File \u001b[0;32m\"/tmp/ipython-input-3-2446131551.py\"\u001b[0;36m, line \u001b[0;32m7\u001b[0m\n\u001b[0;31m    \u001b[0m\n\u001b[0m    ^\u001b[0m\n\u001b[0;31mSyntaxError\u001b[0m\u001b[0;31m:\u001b[0m incomplete input\n"
          ]
        }
      ]
    },
    {
      "cell_type": "code",
      "source": [],
      "metadata": {
        "id": "2yYf-S0PPBfa"
      },
      "execution_count": null,
      "outputs": []
    }
  ]
}