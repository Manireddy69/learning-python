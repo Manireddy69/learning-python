{
  "nbformat": 4,
  "nbformat_minor": 0,
  "metadata": {
    "colab": {
      "provenance": [],
      "include_colab_link": true
    },
    "kernelspec": {
      "name": "python3",
      "display_name": "Python 3"
    },
    "language_info": {
      "name": "python"
    }
  },
  "cells": [
    {
      "cell_type": "markdown",
      "metadata": {
        "id": "view-in-github",
        "colab_type": "text"
      },
      "source": [
        "<a href=\"https://colab.research.google.com/github/Manireddy69/learning-python/blob/main/sorting.ipynb\" target=\"_parent\"><img src=\"https://colab.research.google.com/assets/colab-badge.svg\" alt=\"Open In Colab\"/></a>"
      ]
    },
    {
      "cell_type": "code",
      "execution_count": null,
      "metadata": {
        "colab": {
          "base_uri": "https://localhost:8080/"
        },
        "id": "F80o42EMNfvH",
        "outputId": "9345a213-4b79-4984-a3a4-a8edeb83f902"
      },
      "outputs": [
        {
          "output_type": "stream",
          "name": "stdout",
          "text": [
            "The orginal array: [1, 2, 3, 4, 5]\n",
            "The elments after 1 iteration [1, 2, 3, 4, 5]\n",
            "The elments after 2 iteration [1, 2, 3, 4, 5]\n",
            "The elments after 3 iteration [1, 2, 3, 4, 5]\n",
            "The elments after 4 iteration [1, 2, 3, 4, 5]\n"
          ]
        }
      ],
      "source": [
        "#bubble sort\n",
        "#AIM : to bring largest element to it's position.\n",
        "array = [1,2,3,4,5]\n",
        "n = len(array)\n",
        "print(\"The orginal array:\", array)\n",
        "for j in range(n-1): #outer loop is for iteration\n",
        "  flag = False\n",
        "  for i in range(n-1-j): # AIM of the algorithm\n",
        "    #works without (-j) but take compares with sorted elements\n",
        "    flag = True\n",
        "    if array[i] > array[i+1]:\n",
        "      array[i+1], array[i] = array[i], array[i+1]\n",
        "  print(\"The elments after\",j+1, \"iteration\", array)\n",
        "  if flag == False:\n",
        "    break\n",
        "    print(array)\n"
      ]
    },
    {
      "cell_type": "code",
      "source": [
        "#2nd time execution for bubble sort\n",
        "x = [5,4,3,2,1]\n",
        "n = len(x) #n = 5\n",
        "def b_s(x):\n",
        "  if n <= 1:\n",
        "    return n\n",
        "  comparisions = 0\n",
        "  print(\"the orginal elements:\",x)\n",
        "  for j in range(n-1):\n",
        "    swapped = False\n",
        "    for i in range(n-1-j): # we have to compare only n-1 elements with 1st element\n",
        "    # we take -j bcoz we dont have to consider after sorting highest element in\n",
        "      comparisions += 1\n",
        "      if x[i] >= x[i+1]:\n",
        "        x[i], x[i+1] = x[i+1], x[i]\n",
        "        swapped = True\n",
        "    print('The elements after',j+1, 'iteration', x)\n",
        "    if not swapped:\n",
        "      break\n",
        "      print(\"The array is already sorted\")\n",
        "  print(\"The total no is comparisions: \",comparisions)\n",
        "\n",
        "b_s(x)\n",
        "print(x)\n"
      ],
      "metadata": {
        "colab": {
          "base_uri": "https://localhost:8080/"
        },
        "id": "SmQQMUbTMtvW",
        "outputId": "17a65db4-1027-4ba7-93e0-4acc14f5f06e"
      },
      "execution_count": null,
      "outputs": [
        {
          "output_type": "stream",
          "name": "stdout",
          "text": [
            "the orginal elements: [5, 4, 3, 2, 1]\n",
            "The elements after 1 iteration [4, 3, 2, 1, 5]\n",
            "The elements after 2 iteration [3, 2, 1, 4, 5]\n",
            "The elements after 3 iteration [2, 1, 3, 4, 5]\n",
            "The elements after 4 iteration [1, 2, 3, 4, 5]\n",
            "The total no is comparisions:  10\n",
            "[1, 2, 3, 4, 5]\n"
          ]
        }
      ]
    },
    {
      "cell_type": "code",
      "source": [],
      "metadata": {
        "id": "QCuTwggH8W0i"
      },
      "execution_count": null,
      "outputs": []
    },
    {
      "cell_type": "code",
      "source": [
        "#selection sort\n",
        "#AIM : to  bring smallest element to it's position\n",
        "arr = [5,4,3,2,1]\n",
        "\n",
        "min_element = arr[0]\n",
        "min_index = 0\n",
        "n = len(arr)\n",
        "print(\"the orginal array:\", arr)\n",
        "for j in range(n-1):\n",
        "  min_index = j\n",
        "  min_element = arr[j]\n",
        "  for i in range(j+1,n):\n",
        "    if arr[i] < min_element:\n",
        "      min_element = arr[i]\n",
        "      min_index = i\n",
        "  print(\"the min element after\",j+1,\"iteration is:\",min_element,\"& the index is:\", min_index)\n",
        "\n",
        "  arr[j], arr[min_index] = arr[min_index], arr[j]\n",
        "  print(\"The array after\",j+1,\"itration\", arr)"
      ],
      "metadata": {
        "colab": {
          "base_uri": "https://localhost:8080/"
        },
        "id": "Kf8aPoGJWHKS",
        "outputId": "2328ec68-86f9-46a5-c414-3d8958141886"
      },
      "execution_count": null,
      "outputs": [
        {
          "output_type": "stream",
          "name": "stdout",
          "text": [
            "the orginal array: [5, 4, 3, 2, 1]\n",
            "the min element after 1 iteration is: 1 & the index is: 4\n",
            "The array after 1 itration [1, 4, 3, 2, 5]\n",
            "the min element after 2 iteration is: 2 & the index is: 3\n",
            "The array after 2 itration [1, 2, 3, 4, 5]\n",
            "the min element after 3 iteration is: 3 & the index is: 2\n",
            "The array after 3 itration [1, 2, 3, 4, 5]\n",
            "the min element after 4 iteration is: 4 & the index is: 3\n",
            "The array after 4 itration [1, 2, 3, 4, 5]\n"
          ]
        }
      ]
    },
    {
      "cell_type": "code",
      "source": [
        "#second time running selection sort\n",
        "x = [18,69,45,7,0,4]\n",
        "n = len(x)\n",
        "def selection_sort(x):\n",
        "  # index = 0\n",
        "\n",
        "  for j in range(n-1):\n",
        "    index = j # j = 0,1,2,3,4\n",
        "    for i in range(j+1, n): #i = 1,2,3,4\n",
        "      if x[i] <= x[index]:\n",
        "        index = i\n",
        "    x[i], x[index] = x[index], x[i]\n",
        "    print(\"The elements after\",j+1, \"iterations\",x)\n",
        "selection_sort(x)\n",
        "print(x)"
      ],
      "metadata": {
        "id": "o7B0SE6EUTGV",
        "colab": {
          "base_uri": "https://localhost:8080/"
        },
        "outputId": "2e6ace58-d6dc-4620-9ef7-1f3132e9af7b"
      },
      "execution_count": null,
      "outputs": [
        {
          "output_type": "stream",
          "name": "stdout",
          "text": [
            "The elements after 1 iterations [18, 69, 45, 7, 4, 0]\n",
            "The elements after 2 iterations [18, 69, 45, 7, 4, 0]\n",
            "The elements after 3 iterations [18, 69, 45, 7, 4, 0]\n",
            "The elements after 4 iterations [18, 69, 45, 7, 4, 0]\n",
            "The elements after 5 iterations [18, 69, 45, 7, 4, 0]\n",
            "[18, 69, 45, 7, 4, 0]\n"
          ]
        }
      ]
    },
    {
      "cell_type": "code",
      "source": [
        "#insertion sort\n",
        "array = [6,3,5,4,2]\n",
        "# j = 0\n",
        "n = len(array) #5\n",
        "for i in range(n-1): #i =0,1,2,3\n",
        "  j = i\n",
        "  while array[j] > array[j+1] and j >= 0:\n",
        "    array[j] , array[j+1] = array[j+1], array[j]\n",
        "    j = j-1\n",
        "print(array)"
      ],
      "metadata": {
        "colab": {
          "base_uri": "https://localhost:8080/"
        },
        "id": "dM5qAYQy8XoS",
        "outputId": "56c180f0-be93-42e1-fcc1-8513d4a4b1d1"
      },
      "execution_count": 1,
      "outputs": [
        {
          "output_type": "stream",
          "name": "stdout",
          "text": [
            "[2, 3, 4, 5, 6]\n"
          ]
        }
      ]
    },
    {
      "cell_type": "code",
      "source": [],
      "metadata": {
        "id": "EngV4VGbztmi"
      },
      "execution_count": null,
      "outputs": []
    },
    {
      "cell_type": "code",
      "source": [
        "#insertion sort\n",
        "array = [6,3,5,4,2]\n",
        "j = 0\n",
        "n = len(array)\n",
        "for i in range(n-1):\n",
        "  j = i\n",
        "  while array[j] > array[j+1] and j>=  0:\n",
        "    array[j] , array[j+1] = array[j+1], array[j]\n",
        "    j = j-1 #in between the iteration j becomes 1 (ex: after 2 iteration) it compares the insdie the elements and swaps if necessary\n",
        "  print(\"The array after\", i+1, \"iteration:\", array)\n",
        "print(\"The sorted array after insertion sort:\",array)"
      ],
      "metadata": {
        "colab": {
          "base_uri": "https://localhost:8080/"
        },
        "id": "dmjPB9JiLbzS",
        "outputId": "1ea8d069-4f81-42f6-ba4f-9a7b972d04a8"
      },
      "execution_count": null,
      "outputs": [
        {
          "output_type": "stream",
          "name": "stdout",
          "text": [
            "The array after 1 iteration: [3, 6, 5, 4, 2]\n",
            "The array after 2 iteration: [3, 5, 6, 4, 2]\n",
            "The array after 3 iteration: [3, 4, 5, 6, 2]\n",
            "The array after 4 iteration: [2, 3, 4, 5, 6]\n",
            "The sorted array after insertion sort: [2, 3, 4, 5, 6]\n"
          ]
        }
      ]
    },
    {
      "cell_type": "code",
      "source": [
        "#Quick sort\n",
        "def partition(arr, start, end):\n",
        "  pivot = arr[start]\n",
        "  low = start +1\n",
        "  high = end\n",
        "  while low <= high :\n",
        "    #find first element than pivot from left\n",
        "    while arr[low] <= pivot and low<= high:\n",
        "      low = low+ 1\n",
        "    #find first element smaller than pivot from right\n",
        "    while arr[high] >= pivot and low <= high:\n",
        "      high = high -1\n",
        "    if low <= high:\n",
        "      arr[low], arr[high] = arr[low], arr[high]\n",
        "      low = low +1\n",
        "      high = high -1\n",
        "\n",
        "    arr[start] ,arr[high] = arr[high], arr[start]\n",
        "    print(arr)\n",
        "\n",
        "\n",
        "def quick_sort(arr, start, end):\n",
        "  partition(arr, start, end)\n",
        "  quick_sort(arr, start, high-1)\n",
        "  quick_sort(arr,high +1, end)\n",
        "\n",
        "\n",
        "\n",
        "arr = [2,0,4,5,6]\n",
        "quick_sort(arr, 0, len(arr)-1)"
      ],
      "metadata": {
        "colab": {
          "base_uri": "https://localhost:8080/",
          "height": 315
        },
        "id": "mDTew-vMMEZx",
        "outputId": "c2997456-5196-4122-9008-245617d53365"
      },
      "execution_count": null,
      "outputs": [
        {
          "output_type": "stream",
          "name": "stdout",
          "text": [
            "[0, 2, 4, 5, 6]\n"
          ]
        },
        {
          "output_type": "error",
          "ename": "NameError",
          "evalue": "name 'high' is not defined",
          "traceback": [
            "\u001b[0;31m---------------------------------------------------------------------------\u001b[0m",
            "\u001b[0;31mNameError\u001b[0m                                 Traceback (most recent call last)",
            "\u001b[0;32m/tmp/ipython-input-16-247711376.py\u001b[0m in \u001b[0;36m<cell line: 0>\u001b[0;34m()\u001b[0m\n\u001b[1;32m     28\u001b[0m \u001b[0;34m\u001b[0m\u001b[0m\n\u001b[1;32m     29\u001b[0m \u001b[0marr\u001b[0m \u001b[0;34m=\u001b[0m \u001b[0;34m[\u001b[0m\u001b[0;36m2\u001b[0m\u001b[0;34m,\u001b[0m\u001b[0;36m0\u001b[0m\u001b[0;34m,\u001b[0m\u001b[0;36m4\u001b[0m\u001b[0;34m,\u001b[0m\u001b[0;36m5\u001b[0m\u001b[0;34m,\u001b[0m\u001b[0;36m6\u001b[0m\u001b[0;34m]\u001b[0m\u001b[0;34m\u001b[0m\u001b[0;34m\u001b[0m\u001b[0m\n\u001b[0;32m---> 30\u001b[0;31m \u001b[0mquick_sort\u001b[0m\u001b[0;34m(\u001b[0m\u001b[0marr\u001b[0m\u001b[0;34m,\u001b[0m \u001b[0;36m0\u001b[0m\u001b[0;34m,\u001b[0m \u001b[0mlen\u001b[0m\u001b[0;34m(\u001b[0m\u001b[0marr\u001b[0m\u001b[0;34m)\u001b[0m\u001b[0;34m-\u001b[0m\u001b[0;36m1\u001b[0m\u001b[0;34m)\u001b[0m\u001b[0;34m\u001b[0m\u001b[0;34m\u001b[0m\u001b[0m\n\u001b[0m",
            "\u001b[0;32m/tmp/ipython-input-16-247711376.py\u001b[0m in \u001b[0;36mquick_sort\u001b[0;34m(arr, start, end)\u001b[0m\n\u001b[1;32m     22\u001b[0m \u001b[0;32mdef\u001b[0m \u001b[0mquick_sort\u001b[0m\u001b[0;34m(\u001b[0m\u001b[0marr\u001b[0m\u001b[0;34m,\u001b[0m \u001b[0mstart\u001b[0m\u001b[0;34m,\u001b[0m \u001b[0mend\u001b[0m\u001b[0;34m)\u001b[0m\u001b[0;34m:\u001b[0m\u001b[0;34m\u001b[0m\u001b[0;34m\u001b[0m\u001b[0m\n\u001b[1;32m     23\u001b[0m   \u001b[0mpartition\u001b[0m\u001b[0;34m(\u001b[0m\u001b[0marr\u001b[0m\u001b[0;34m,\u001b[0m \u001b[0mstart\u001b[0m\u001b[0;34m,\u001b[0m \u001b[0mend\u001b[0m\u001b[0;34m)\u001b[0m\u001b[0;34m\u001b[0m\u001b[0;34m\u001b[0m\u001b[0m\n\u001b[0;32m---> 24\u001b[0;31m   \u001b[0mquick_sort\u001b[0m\u001b[0;34m(\u001b[0m\u001b[0marr\u001b[0m\u001b[0;34m,\u001b[0m \u001b[0mstart\u001b[0m\u001b[0;34m,\u001b[0m \u001b[0mhigh\u001b[0m\u001b[0;34m-\u001b[0m\u001b[0;36m1\u001b[0m\u001b[0;34m)\u001b[0m\u001b[0;34m\u001b[0m\u001b[0;34m\u001b[0m\u001b[0m\n\u001b[0m\u001b[1;32m     25\u001b[0m   \u001b[0mquick_sort\u001b[0m\u001b[0;34m(\u001b[0m\u001b[0marr\u001b[0m\u001b[0;34m,\u001b[0m\u001b[0mhigh\u001b[0m \u001b[0;34m+\u001b[0m\u001b[0;36m1\u001b[0m\u001b[0;34m,\u001b[0m \u001b[0mend\u001b[0m \u001b[0;34m)\u001b[0m\u001b[0;34m\u001b[0m\u001b[0;34m\u001b[0m\u001b[0m\n\u001b[1;32m     26\u001b[0m \u001b[0;34m\u001b[0m\u001b[0m\n",
            "\u001b[0;31mNameError\u001b[0m: name 'high' is not defined"
          ]
        }
      ]
    },
    {
      "cell_type": "code",
      "source": [
        "#mentos zindagi\n",
        "def q_s(array):\n",
        "  if len(array) <= 1:\n",
        "    return array\n",
        "  pivot = array[0]\n",
        "  left = []\n",
        "  right = []\n",
        "  for i  in array[1:]:\n",
        "    if pivot > i:\n",
        "      left.append(i)\n",
        "\n",
        "    else:\n",
        "      right.append(i)\n",
        "  return q_s(left) + [pivot] + q_s(right)\n",
        "\n",
        "array = [6,5,4,3,2,1]\n",
        "q_s(array)\n"
      ],
      "metadata": {
        "id": "2yYf-S0PPBfa",
        "colab": {
          "base_uri": "https://localhost:8080/"
        },
        "outputId": "55623ce3-1872-4934-9da9-f6271382a1f6"
      },
      "execution_count": 4,
      "outputs": [
        {
          "output_type": "execute_result",
          "data": {
            "text/plain": [
              "[1, 2, 3, 4, 5, 6]"
            ]
          },
          "metadata": {},
          "execution_count": 4
        }
      ]
    },
    {
      "cell_type": "code",
      "source": [
        "def quick_sort(x):\n",
        "  if len(x) <= 1:\n",
        "    return x\n",
        "  pivot = x[0]\n",
        "  left = [ i for i in x if i<pivot]\n",
        "  right = [j for j in x if j>pivot]\n",
        "  return (quick_sort(left) + [pivot] + quick_sort(right))\n",
        "x = [5,90,3,5690,2,35,7,68,45,25,6]\n",
        "quick_sort(x)\n",
        "\n"
      ],
      "metadata": {
        "colab": {
          "base_uri": "https://localhost:8080/"
        },
        "id": "xHBQrkhMvjko",
        "outputId": "e57eeefd-1497-456c-fb3e-05961bbf8dcd"
      },
      "execution_count": 11,
      "outputs": [
        {
          "output_type": "execute_result",
          "data": {
            "text/plain": [
              "[2, 3, 5, 6, 7, 25, 35, 45, 68, 90, 5690]"
            ]
          },
          "metadata": {},
          "execution_count": 11
        }
      ]
    },
    {
      "cell_type": "code",
      "source": [
        "#merge sort\n",
        "\n",
        "array = [1,2,3,4,5]\n",
        "# left = len()\n",
        "def merge(array, left, mid, right):\n",
        "  left_array = array[:mid+1]\n",
        "  # mid = len(array)//2\n",
        "  right_array  = array[mid+1:right+1]\n",
        "  i = 0\n",
        "  j = 0\n",
        "  k = left\n",
        "  while i < len(left_array) and j< len(right_array):\n",
        "    if left_array[i] <= right_array[j]:\n",
        "      array[k] = left_array[i]\n",
        "      i = i+1\n",
        "    else:\n",
        "      array[k] = right_array[j]\n",
        "      j = j+1\n",
        "    k = k+1\n",
        "\n",
        "\n",
        "def merge_sort(array, left, right):\n",
        "  mid = (left + right)//2\n",
        "  #left\n",
        "  merge_sort(array, left, mid)\n",
        "  #right\n",
        "  merge_sort(array, mid, right)\n",
        "  merge(array, left, mid, right)\n",
        "merge(array, left = array[:mid], mid = )"
      ],
      "metadata": {
        "colab": {
          "base_uri": "https://localhost:8080/",
          "height": 176
        },
        "id": "v75QidPU5B1p",
        "outputId": "f2e83235-1e12-4ef4-ab03-108b536e9c62"
      },
      "execution_count": null,
      "outputs": [
        {
          "output_type": "error",
          "ename": "TypeError",
          "evalue": "merge() missing 3 required positional arguments: 'left', 'mid', and 'right'",
          "traceback": [
            "\u001b[0;31m---------------------------------------------------------------------------\u001b[0m",
            "\u001b[0;31mTypeError\u001b[0m                                 Traceback (most recent call last)",
            "\u001b[0;32m/tmp/ipython-input-38-109217607.py\u001b[0m in \u001b[0;36m<cell line: 0>\u001b[0;34m()\u001b[0m\n\u001b[1;32m     27\u001b[0m   \u001b[0mmerge_sort\u001b[0m\u001b[0;34m(\u001b[0m\u001b[0marray\u001b[0m\u001b[0;34m,\u001b[0m \u001b[0mmid\u001b[0m\u001b[0;34m,\u001b[0m \u001b[0mright\u001b[0m\u001b[0;34m)\u001b[0m\u001b[0;34m\u001b[0m\u001b[0;34m\u001b[0m\u001b[0m\n\u001b[1;32m     28\u001b[0m   \u001b[0mmerge\u001b[0m\u001b[0;34m(\u001b[0m\u001b[0marray\u001b[0m\u001b[0;34m,\u001b[0m \u001b[0mleft\u001b[0m\u001b[0;34m,\u001b[0m \u001b[0mmid\u001b[0m\u001b[0;34m,\u001b[0m \u001b[0mright\u001b[0m\u001b[0;34m)\u001b[0m\u001b[0;34m\u001b[0m\u001b[0;34m\u001b[0m\u001b[0m\n\u001b[0;32m---> 29\u001b[0;31m \u001b[0mmerge\u001b[0m\u001b[0;34m(\u001b[0m\u001b[0marray\u001b[0m\u001b[0;34m)\u001b[0m\u001b[0;34m\u001b[0m\u001b[0;34m\u001b[0m\u001b[0m\n\u001b[0m",
            "\u001b[0;31mTypeError\u001b[0m: merge() missing 3 required positional arguments: 'left', 'mid', and 'right'"
          ]
        }
      ]
    },
    {
      "cell_type": "code",
      "source": [],
      "metadata": {
        "colab": {
          "base_uri": "https://localhost:8080/"
        },
        "id": "qn-C_GESAu9Y",
        "outputId": "6c0c8442-2708-47dc-d6ec-2699f6da2e0c"
      },
      "execution_count": null,
      "outputs": [
        {
          "output_type": "execute_result",
          "data": {
            "text/plain": [
              "[6, 5, 4]"
            ]
          },
          "metadata": {},
          "execution_count": 35
        }
      ]
    },
    {
      "cell_type": "code",
      "source": [
        "#mentos zindagi\n",
        "def m_s(array):\n",
        "  if len(array)  <= 1:\n",
        "    return array\n",
        "  middle = len(array) // 2  #divide into 2 chunks\n",
        "  left = array[:middle]\n",
        "  right = array[middle:]\n",
        "  left = m_s(left)\n",
        "  right = m_s(right)\n",
        "\n",
        "  sorted = []\n",
        "  i = j = 0\n",
        "\n",
        "  while i< len(left) and j<len(right):\n",
        "    if left[i]< right[j]:\n",
        "      sorted.append(left[i])\n",
        "      i += 1\n",
        "    else:\n",
        "      sorted.append(right[j])\n",
        "      j += 1\n",
        "\n",
        "  sorted += left[i:]\n",
        "  sorted += right[j:]\n",
        "  return sorted # Added return statement\n",
        "\n",
        "x = [6,5,4,3,2,1]\n",
        "print(m_s(x)) # Added print to display the result"
      ],
      "metadata": {
        "colab": {
          "base_uri": "https://localhost:8080/"
        },
        "id": "InFYRXLq-YI2",
        "outputId": "2c75dfd4-dbde-411e-a7c0-7b3fabfd2177"
      },
      "execution_count": null,
      "outputs": [
        {
          "output_type": "stream",
          "name": "stdout",
          "text": [
            "[1, 2, 3, 4, 5, 6]\n"
          ]
        }
      ]
    },
    {
      "cell_type": "code",
      "source": [
        "from os import sched_param\n",
        "def scope_test():\n",
        "  def do_local():\n",
        "    spam = \"local spam\"\n",
        "  def do_nonlocal():\n",
        "    nonlocal spam\n",
        "    spam = \"non local spam\"\n",
        "  def do_global():\n",
        "    global spam\n",
        "    spam = \"global spam\"\n",
        "\n",
        "  spam = \"test spam\"\n",
        "  do_local()\n",
        "  print(\"After local assignment:\", spam)\n",
        "  do_nonlocal()\n",
        "  print(\"After nonlocal assignment\",spam)\n",
        "  do_global()\n",
        "  print(\"after global assignment:\", spam)\n",
        "\n",
        "scope_test()\n",
        "print(\"In global scope:\", spam)"
      ],
      "metadata": {
        "colab": {
          "base_uri": "https://localhost:8080/"
        },
        "id": "2zhsF40Aq930",
        "outputId": "2e430af8-6e56-4396-e949-48e2c4b69a31"
      },
      "execution_count": null,
      "outputs": [
        {
          "output_type": "stream",
          "name": "stdout",
          "text": [
            "After local assignment: test spam\n",
            "After nonlocal assignment non local spam\n",
            "after global assignment: non local spam\n",
            "In global scope: global spam\n"
          ]
        }
      ]
    },
    {
      "cell_type": "code",
      "source": [
        "y = [3,0,1]\n",
        "n = len(y)\n",
        "for i in range(0,n):\n",
        "  if i in y:\n",
        "    continue\n",
        "  else:\n",
        "    print(i)\n"
      ],
      "metadata": {
        "colab": {
          "base_uri": "https://localhost:8080/",
          "height": 193
        },
        "id": "QRsYyzrH2ti8",
        "outputId": "ab72c800-a12c-47c5-a1dc-d5872e15ff9b"
      },
      "execution_count": null,
      "outputs": [
        {
          "output_type": "stream",
          "name": "stdout",
          "text": [
            "2\n"
          ]
        },
        {
          "output_type": "error",
          "ename": "NameError",
          "evalue": "name 'rang' is not defined",
          "traceback": [
            "\u001b[0;31m---------------------------------------------------------------------------\u001b[0m",
            "\u001b[0;31mNameError\u001b[0m                                 Traceback (most recent call last)",
            "\u001b[0;32m/tmp/ipython-input-54-2237964560.py\u001b[0m in \u001b[0;36m<cell line: 0>\u001b[0;34m()\u001b[0m\n\u001b[1;32m      6\u001b[0m   \u001b[0;32melse\u001b[0m\u001b[0;34m:\u001b[0m\u001b[0;34m\u001b[0m\u001b[0;34m\u001b[0m\u001b[0m\n\u001b[1;32m      7\u001b[0m     \u001b[0mprint\u001b[0m\u001b[0;34m(\u001b[0m\u001b[0mi\u001b[0m\u001b[0;34m)\u001b[0m\u001b[0;34m\u001b[0m\u001b[0;34m\u001b[0m\u001b[0m\n\u001b[0;32m----> 8\u001b[0;31m \u001b[0mprint\u001b[0m\u001b[0;34m(\u001b[0m\u001b[0msum\u001b[0m\u001b[0;34m(\u001b[0m\u001b[0my\u001b[0m\u001b[0;34m)\u001b[0m\u001b[0;34m-\u001b[0m \u001b[0msum\u001b[0m\u001b[0;34m(\u001b[0m\u001b[0mrange\u001b[0m\u001b[0;34m(\u001b[0m\u001b[0mrang\u001b[0m\u001b[0;34m(\u001b[0m\u001b[0my\u001b[0m\u001b[0;34m)\u001b[0m\u001b[0;34m)\u001b[0m\u001b[0;34m)\u001b[0m\u001b[0;34m)\u001b[0m\u001b[0;34m\u001b[0m\u001b[0;34m\u001b[0m\u001b[0m\n\u001b[0m",
            "\u001b[0;31mNameError\u001b[0m: name 'rang' is not defined"
          ]
        }
      ]
    },
    {
      "cell_type": "code",
      "metadata": {
        "colab": {
          "base_uri": "https://localhost:8080/"
        },
        "id": "d74c2f17",
        "outputId": "5d3cb119-2de1-4ea9-a2eb-d1f148087005"
      },
      "source": [
        "# Changed return to print"
      ],
      "execution_count": null,
      "outputs": [
        {
          "output_type": "stream",
          "name": "stdout",
          "text": [
            "2\n"
          ]
        }
      ]
    }
  ]
}